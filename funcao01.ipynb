{
 "cells": [
  {
   "cell_type": "markdown",
   "id": "43a34cb4-cba6-400d-9f7f-7bced380e23f",
   "metadata": {},
   "source": [
    "Função em Python\n",
    "- Agrupar instruções que geralmente se repentem\n",
    "- Posso utilizar  a função sempre que necessitar executar essas instruções\n",
    "\n",
    "Em Python se define uma função com a palavra reservada \"def\"\n",
    "\n",
    "def nome_funcao():\n",
    "    instrunções"
   ]
  },
  {
   "cell_type": "code",
   "execution_count": 2,
   "id": "4cae5b80-08b1-4e4b-b781-68d976651303",
   "metadata": {},
   "outputs": [],
   "source": [
    "#Função vazia: sem instrução. Deve utilizar a palavra \"pass\". Função sem inprementação ou vazia\n",
    "\n",
    "def funcao():\n",
    "    pass"
   ]
  },
  {
   "cell_type": "code",
   "execution_count": 9,
   "id": "811ec368-bf03-440b-8b30-c4e6de593d56",
   "metadata": {},
   "outputs": [],
   "source": [
    "#Função sem retorno e sem parâmetros\n",
    "\n",
    "def nome():\n",
    "    print('IFRN')"
   ]
  },
  {
   "cell_type": "code",
   "execution_count": 7,
   "id": "5b2333fd-9b35-40eb-b965-b2b847954060",
   "metadata": {},
   "outputs": [
    {
     "name": "stdout",
     "output_type": "stream",
     "text": [
      "IFRN\n"
     ]
    }
   ],
   "source": [
    "nome()"
   ]
  },
  {
   "cell_type": "code",
   "execution_count": 12,
   "id": "6e4162a8-e174-474a-bf1b-4bb6c865087e",
   "metadata": {},
   "outputs": [
    {
     "name": "stdout",
     "output_type": "stream",
     "text": [
      "IFRN\n"
     ]
    }
   ],
   "source": [
    "#Função com retorno e sem parÂmetros\n",
    "\n",
    "def instituicao():\n",
    "    return 'IFRN'"
   ]
  },
  {
   "cell_type": "code",
   "execution_count": 13,
   "id": "fbe6932d-8f8c-40d8-8c80-da9e23ab391a",
   "metadata": {},
   "outputs": [
    {
     "name": "stdout",
     "output_type": "stream",
     "text": [
      "IFRN\n"
     ]
    }
   ],
   "source": [
    "print(instituicao())"
   ]
  },
  {
   "cell_type": "code",
   "execution_count": 26,
   "id": "f1dd9bb9-f885-4399-8a3c-afa8f52b32bb",
   "metadata": {},
   "outputs": [],
   "source": [
    "#Função com parâmetro e sem retorno\n",
    "#variaveis Globais, são fora do parametro.\n",
    "#variaveis Locais, são dentro do parametro.\n",
    "\n",
    "def idade(numero): #numero é uma variavel local\n",
    "    print('A minha idade é: ', numero, 'anos')"
   ]
  },
  {
   "cell_type": "code",
   "execution_count": 27,
   "id": "76baf856-2e00-48a3-8f8f-ef3211156f38",
   "metadata": {},
   "outputs": [
    {
     "name": "stdout",
     "output_type": "stream",
     "text": [
      "A minha idade é:  30 anos\n"
     ]
    }
   ],
   "source": [
    "idade(30)"
   ]
  },
  {
   "cell_type": "code",
   "execution_count": 28,
   "id": "969e59e3-d64b-499f-b71a-968d4a95d5fb",
   "metadata": {},
   "outputs": [],
   "source": [
    "#Função com parâmetro e retorno\n",
    "\n",
    "def somar(numero1, numero2):\n",
    "    return numero1+numero2"
   ]
  },
  {
   "cell_type": "code",
   "execution_count": 29,
   "id": "969338f9-fb5f-439f-95c6-04e9766dba34",
   "metadata": {},
   "outputs": [
    {
     "name": "stdout",
     "output_type": "stream",
     "text": [
      "30\n"
     ]
    }
   ],
   "source": [
    "num1 = 10\n",
    "num2 = 20\n",
    "print(somar(num1, num2))"
   ]
  },
  {
   "cell_type": "markdown",
   "id": "a6e53873-7c2e-48da-acf2-df33d3c67dd2",
   "metadata": {},
   "source": [
    "Por padrão, Python (assim como a maioria das linguagens de programação) utiliza parâmetros posicionais, \n",
    "ou seja, o primeiro argumento é substituído no primeiro parâmetro, o segundo argumento é substituído no\n",
    "segundo parâmetro, e assim por diante."
   ]
  },
  {
   "cell_type": "markdown",
   "id": "c4270037-20a0-468f-b4c9-ffd3d3ee88ee",
   "metadata": {},
   "source": [
    "Python permite alterar a ordem com que os valores são\n",
    "substituidos nos parametros, atráves dos parâmetros nomeados"
   ]
  },
  {
   "cell_type": "code",
   "execution_count": 32,
   "id": "3ff7ba1a-02b8-43e2-b097-065a1b82600f",
   "metadata": {},
   "outputs": [
    {
     "name": "stdout",
     "output_type": "stream",
     "text": [
      "Arthur  25  123456  654321\n"
     ]
    }
   ],
   "source": [
    "#Usando parâmetros posicionais\n",
    "\n",
    "def cadastro(nome, idade, cpf, rg):\n",
    "    print(nome, '', idade, '', cpf, '', rg)\n",
    "\n",
    "\n",
    "cadastro('Arthur', 25, 123456, 654321)"
   ]
  },
  {
   "cell_type": "code",
   "execution_count": 33,
   "id": "77d975ee-ec1b-4e04-a54a-5fcb2a2f1ab2",
   "metadata": {},
   "outputs": [
    {
     "name": "stdout",
     "output_type": "stream",
     "text": [
      "Arthur  24  12345  54321\n"
     ]
    }
   ],
   "source": [
    "#Parâmetros nomeados\n",
    "\n",
    "cadastro(cpf='12345', rg='54321', idade='24', nome='Arthur')"
   ]
  },
  {
   "cell_type": "markdown",
   "id": "a76ab125-8d6e-47f5-9183-2f222cffe047",
   "metadata": {},
   "source": [
    "Parâmetros default\n",
    "\n",
    "É possível definir um valor padrão para os parâmetros caso eles não sejam informados."
   ]
  },
  {
   "cell_type": "code",
   "execution_count": 35,
   "id": "74f94d41-35c9-4238-85f1-b0b59e7bf710",
   "metadata": {},
   "outputs": [],
   "source": [
    "def autenticar(usuario='root', senha='123'):\n",
    "    print(usuario, '', senha, '')"
   ]
  },
  {
   "cell_type": "code",
   "execution_count": 36,
   "id": "a369c4ec-71e6-4957-8965-6ba5a8e31ab6",
   "metadata": {},
   "outputs": [
    {
     "name": "stdout",
     "output_type": "stream",
     "text": [
      "Arthur  123 \n"
     ]
    }
   ],
   "source": [
    "autenticar('Arthur', '123')"
   ]
  },
  {
   "cell_type": "code",
   "execution_count": 37,
   "id": "09858d14-6f03-45ee-b2f6-bcb90ac11720",
   "metadata": {},
   "outputs": [
    {
     "name": "stdout",
     "output_type": "stream",
     "text": [
      "root  123 \n"
     ]
    }
   ],
   "source": [
    "autenticar()"
   ]
  },
  {
   "cell_type": "code",
   "execution_count": 42,
   "id": "dc84d669-d00c-475b-8963-84b285e0e891",
   "metadata": {},
   "outputs": [],
   "source": [
    "#Python permite retornar mais de um valor\n",
    "\n",
    "def aula():\n",
    "    return 'Arthur', 25\n"
   ]
  },
  {
   "cell_type": "code",
   "execution_count": 47,
   "id": "ad8906e6-0614-43f8-a81d-aed57a25a827",
   "metadata": {},
   "outputs": [
    {
     "name": "stdout",
     "output_type": "stream",
     "text": [
      "Arthur  25\n"
     ]
    }
   ],
   "source": [
    "nome, idade = aula()\n",
    "print(nome, '', idade)"
   ]
  },
  {
   "cell_type": "code",
   "execution_count": null,
   "id": "de78ef0e-694c-48a6-b77a-2e3156422e88",
   "metadata": {},
   "outputs": [],
   "source": []
  }
 ],
 "metadata": {
  "kernelspec": {
   "display_name": "Python 3 (ipykernel)",
   "language": "python",
   "name": "python3"
  },
  "language_info": {
   "codemirror_mode": {
    "name": "ipython",
    "version": 3
   },
   "file_extension": ".py",
   "mimetype": "text/x-python",
   "name": "python",
   "nbconvert_exporter": "python",
   "pygments_lexer": "ipython3",
   "version": "3.10.7"
  }
 },
 "nbformat": 4,
 "nbformat_minor": 5
}
