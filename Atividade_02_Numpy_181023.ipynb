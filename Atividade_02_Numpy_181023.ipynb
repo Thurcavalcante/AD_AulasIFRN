{
 "cells": [
  {
   "cell_type": "markdown",
   "id": "c53e62ed",
   "metadata": {},
   "source": [
    "# Atividade 02 - 19/10/23"
   ]
  },
  {
   "cell_type": "markdown",
   "id": "975df868",
   "metadata": {},
   "source": [
    "Documentação Numpy: https://numpy.org/doc/stable/\n",
    "\n",
    "Enviar este arquivo preenchido com o nome do aluno para o e-mail: profbrunorespostas1@gmail.com e assunto: AD2301"
   ]
  },
  {
   "cell_type": "code",
   "execution_count": 1,
   "id": "b4ed8737",
   "metadata": {},
   "outputs": [
    {
     "name": "stdout",
     "output_type": "stream",
     "text": [
      "Arthur Rocha Cavalcante\n"
     ]
    }
   ],
   "source": [
    "#Substituir nome do aluno aqui\n",
    "print(\"Arthur Rocha Cavalcante\")"
   ]
  },
  {
   "cell_type": "code",
   "execution_count": 2,
   "id": "e99a34ab-15c2-4ca2-93f5-37856a2f125c",
   "metadata": {},
   "outputs": [],
   "source": [
    "import numpy as np"
   ]
  },
  {
   "cell_type": "markdown",
   "id": "0fb7198f",
   "metadata": {},
   "source": [
    "### Questão 1:\n",
    "Usando o dataset do Pokemon, imprimir os nomes de todos os pokemons localizados no dataset."
   ]
  },
  {
   "cell_type": "code",
   "execution_count": 21,
   "id": "e6e33609",
   "metadata": {},
   "outputs": [
    {
     "name": "stdout",
     "output_type": "stream",
     "text": [
      "['Bulbasaur' 'Ivysaur' 'Venusaur' 'VenusaurMega Venusaur' 'Charmander'\n",
      " 'Charmeleon' 'Charizard' 'CharizardMega Charizard X'\n",
      " 'CharizardMega Charizard Y' 'Squirtle' 'Wartortle' 'Blastoise'\n",
      " 'BlastoiseMega Blastoise' 'Caterpie' 'Metapod' 'Butterfree' 'Weedle'\n",
      " 'Kakuna' 'Beedrill' 'BeedrillMega Beedrill' 'Pidgey' 'Pidgeotto'\n",
      " 'Pidgeot' 'PidgeotMega Pidgeot' 'Rattata' 'Raticate' 'Spearow' 'Fearow'\n",
      " 'Ekans' 'Arbok' 'Pikachu' 'Raichu' 'Sandshrew' 'Sandslash' 'Nidoranâ™€'\n",
      " 'Nidorina' 'Nidoqueen' 'Nidoranâ™‚' 'Nidorino' 'Nidoking' 'Clefairy'\n",
      " 'Clefable' 'Vulpix' 'Ninetales' 'Jigglypuff' 'Wigglytuff' 'Zubat'\n",
      " 'Golbat' 'Oddish' 'Gloom' 'Vileplume' 'Paras' 'Parasect' 'Venonat'\n",
      " 'Venomoth' 'Diglett' 'Dugtrio' 'Meowth' 'Persian' 'Psyduck' 'Golduck'\n",
      " 'Mankey' 'Primeape' 'Growlithe' 'Arcanine' 'Poliwag' 'Poliwhirl'\n",
      " 'Poliwrath' 'Abra' 'Kadabra' 'Alakazam' 'AlakazamMega Alakazam' 'Machop'\n",
      " 'Machoke' 'Machamp' 'Bellsprout' 'Weepinbell' 'Victreebel' 'Tentacool'\n",
      " 'Tentacruel' 'Geodude' 'Graveler' 'Golem' 'Ponyta' 'Rapidash' 'Slowpoke'\n",
      " 'Slowbro' 'SlowbroMega Slowbro' 'Magnemite' 'Magneton' \"Farfetch'd\"\n",
      " 'Doduo' 'Dodrio' 'Seel' 'Dewgong' 'Grimer' 'Muk' 'Shellder' 'Cloyster'\n",
      " 'Gastly' 'Haunter' 'Gengar' 'GengarMega Gengar' 'Onix' 'Drowzee' 'Hypno'\n",
      " 'Krabby' 'Kingler' 'Voltorb' 'Electrode' 'Exeggcute' 'Exeggutor' 'Cubone'\n",
      " 'Marowak' 'Hitmonlee' 'Hitmonchan' 'Lickitung' 'Koffing' 'Weezing'\n",
      " 'Rhyhorn' 'Rhydon' 'Chansey' 'Tangela' 'Kangaskhan'\n",
      " 'KangaskhanMega Kangaskhan' 'Horsea' 'Seadra' 'Goldeen' 'Seaking'\n",
      " 'Staryu' 'Starmie' 'Mr. Mime' 'Scyther' 'Jynx' 'Electabuzz' 'Magmar'\n",
      " 'Pinsir' 'PinsirMega Pinsir' 'Tauros' 'Magikarp' 'Gyarados'\n",
      " 'GyaradosMega Gyarados' 'Lapras' 'Ditto' 'Eevee' 'Vaporeon' 'Jolteon'\n",
      " 'Flareon' 'Porygon' 'Omanyte' 'Omastar' 'Kabuto' 'Kabutops' 'Aerodactyl'\n",
      " 'AerodactylMega Aerodactyl' 'Snorlax' 'Articuno' 'Zapdos' 'Moltres'\n",
      " 'Dratini' 'Dragonair' 'Dragonite' 'Mewtwo' 'MewtwoMega Mewtwo X'\n",
      " 'MewtwoMega Mewtwo Y' 'Mew' 'Chikorita' 'Bayleef' 'Meganium' 'Cyndaquil'\n",
      " 'Quilava' 'Typhlosion' 'Totodile' 'Croconaw' 'Feraligatr' 'Sentret'\n",
      " 'Furret' 'Hoothoot' 'Noctowl' 'Ledyba' 'Ledian' 'Spinarak' 'Ariados'\n",
      " 'Crobat' 'Chinchou' 'Lanturn' 'Pichu' 'Cleffa' 'Igglybuff' 'Togepi'\n",
      " 'Togetic' 'Natu' 'Xatu' 'Mareep' 'Flaaffy' 'Ampharos'\n",
      " 'AmpharosMega Ampharos' 'Bellossom' 'Marill' 'Azumarill' 'Sudowoodo'\n",
      " 'Politoed' 'Hoppip' 'Skiploom' 'Jumpluff' 'Aipom' 'Sunkern' 'Sunflora'\n",
      " 'Yanma' 'Wooper' 'Quagsire' 'Espeon' 'Umbreon' 'Murkrow' 'Slowking'\n",
      " 'Misdreavus' 'Unown' 'Wobbuffet' 'Girafarig' 'Pineco' 'Forretress'\n",
      " 'Dunsparce' 'Gligar' 'Steelix' 'SteelixMega Steelix' 'Snubbull'\n",
      " 'Granbull' 'Qwilfish' 'Scizor' 'ScizorMega Scizor' 'Shuckle' 'Heracross'\n",
      " 'HeracrossMega Heracross' 'Sneasel' 'Teddiursa' 'Ursaring' 'Slugma'\n",
      " 'Magcargo' 'Swinub' 'Piloswine' 'Corsola' 'Remoraid' 'Octillery'\n",
      " 'Delibird' 'Mantine' 'Skarmory' 'Houndour' 'Houndoom'\n",
      " 'HoundoomMega Houndoom' 'Kingdra' 'Phanpy' 'Donphan' 'Porygon2'\n",
      " 'Stantler' 'Smeargle' 'Tyrogue' 'Hitmontop' 'Smoochum' 'Elekid' 'Magby'\n",
      " 'Miltank' 'Blissey' 'Raikou' 'Entei' 'Suicune' 'Larvitar' 'Pupitar'\n",
      " 'Tyranitar' 'TyranitarMega Tyranitar' 'Lugia' 'Ho-oh' 'Celebi' 'Treecko'\n",
      " 'Grovyle' 'Sceptile' 'SceptileMega Sceptile' 'Torchic' 'Combusken'\n",
      " 'Blaziken' 'BlazikenMega Blaziken' 'Mudkip' 'Marshtomp' 'Swampert'\n",
      " 'SwampertMega Swampert' 'Poochyena' 'Mightyena' 'Zigzagoon' 'Linoone'\n",
      " 'Wurmple' 'Silcoon' 'Beautifly' 'Cascoon' 'Dustox' 'Lotad' 'Lombre'\n",
      " 'Ludicolo' 'Seedot' 'Nuzleaf' 'Shiftry' 'Taillow' 'Swellow' 'Wingull'\n",
      " 'Pelipper' 'Ralts' 'Kirlia' 'Gardevoir' 'GardevoirMega Gardevoir'\n",
      " 'Surskit' 'Masquerain' 'Shroomish' 'Breloom' 'Slakoth' 'Vigoroth'\n",
      " 'Slaking' 'Nincada' 'Ninjask' 'Shedinja' 'Whismur' 'Loudred' 'Exploud'\n",
      " 'Makuhita' 'Hariyama' 'Azurill' 'Nosepass' 'Skitty' 'Delcatty' 'Sableye'\n",
      " 'SableyeMega Sableye' 'Mawile' 'MawileMega Mawile' 'Aron' 'Lairon'\n",
      " 'Aggron' 'AggronMega Aggron' 'Meditite' 'Medicham'\n",
      " 'MedichamMega Medicham' 'Electrike' 'Manectric' 'ManectricMega Manectric'\n",
      " 'Plusle' 'Minun' 'Volbeat' 'Illumise' 'Roselia' 'Gulpin' 'Swalot'\n",
      " 'Carvanha' 'Sharpedo' 'SharpedoMega Sharpedo' 'Wailmer' 'Wailord' 'Numel'\n",
      " 'Camerupt' 'CameruptMega Camerupt' 'Torkoal' 'Spoink' 'Grumpig' 'Spinda'\n",
      " 'Trapinch' 'Vibrava' 'Flygon' 'Cacnea' 'Cacturne' 'Swablu' 'Altaria'\n",
      " 'AltariaMega Altaria' 'Zangoose' 'Seviper' 'Lunatone' 'Solrock'\n",
      " 'Barboach' 'Whiscash' 'Corphish' 'Crawdaunt' 'Baltoy' 'Claydol' 'Lileep'\n",
      " 'Cradily' 'Anorith' 'Armaldo' 'Feebas' 'Milotic' 'Castform' 'Kecleon'\n",
      " 'Shuppet' 'Banette' 'BanetteMega Banette' 'Duskull' 'Dusclops' 'Tropius'\n",
      " 'Chimecho' 'Absol' 'AbsolMega Absol' 'Wynaut' 'Snorunt' 'Glalie'\n",
      " 'GlalieMega Glalie' 'Spheal' 'Sealeo' 'Walrein' 'Clamperl' 'Huntail'\n",
      " 'Gorebyss' 'Relicanth' 'Luvdisc' 'Bagon' 'Shelgon' 'Salamence'\n",
      " 'SalamenceMega Salamence' 'Beldum' 'Metang' 'Metagross'\n",
      " 'MetagrossMega Metagross' 'Regirock' 'Regice' 'Registeel' 'Latias'\n",
      " 'LatiasMega Latias' 'Latios' 'LatiosMega Latios' 'Kyogre'\n",
      " 'KyogrePrimal Kyogre' 'Groudon' 'GroudonPrimal Groudon' 'Rayquaza'\n",
      " 'RayquazaMega Rayquaza' 'Jirachi' 'DeoxysNormal Forme'\n",
      " 'DeoxysAttack Forme' 'DeoxysDefense Forme' 'DeoxysSpeed Forme' 'Turtwig'\n",
      " 'Grotle' 'Torterra' 'Chimchar' 'Monferno' 'Infernape' 'Piplup' 'Prinplup'\n",
      " 'Empoleon' 'Starly' 'Staravia' 'Staraptor' 'Bidoof' 'Bibarel' 'Kricketot'\n",
      " 'Kricketune' 'Shinx' 'Luxio' 'Luxray' 'Budew' 'Roserade' 'Cranidos'\n",
      " 'Rampardos' 'Shieldon' 'Bastiodon' 'Burmy' 'WormadamPlant Cloak'\n",
      " 'WormadamSandy Cloak' 'WormadamTrash Cloak' 'Mothim' 'Combee' 'Vespiquen'\n",
      " 'Pachirisu' 'Buizel' 'Floatzel' 'Cherubi' 'Cherrim' 'Shellos' 'Gastrodon'\n",
      " 'Ambipom' 'Drifloon' 'Drifblim' 'Buneary' 'Lopunny' 'LopunnyMega Lopunny'\n",
      " 'Mismagius' 'Honchkrow' 'Glameow' 'Purugly' 'Chingling' 'Stunky'\n",
      " 'Skuntank' 'Bronzor' 'Bronzong' 'Bonsly' 'Mime Jr.' 'Happiny' 'Chatot'\n",
      " 'Spiritomb' 'Gible' 'Gabite' 'Garchomp' 'GarchompMega Garchomp'\n",
      " 'Munchlax' 'Riolu' 'Lucario' 'LucarioMega Lucario' 'Hippopotas'\n",
      " 'Hippowdon' 'Skorupi' 'Drapion' 'Croagunk' 'Toxicroak' 'Carnivine'\n",
      " 'Finneon' 'Lumineon' 'Mantyke' 'Snover' 'Abomasnow'\n",
      " 'AbomasnowMega Abomasnow' 'Weavile' 'Magnezone' 'Lickilicky' 'Rhyperior'\n",
      " 'Tangrowth' 'Electivire' 'Magmortar' 'Togekiss' 'Yanmega' 'Leafeon'\n",
      " 'Glaceon' 'Gliscor' 'Mamoswine' 'Porygon-Z' 'Gallade'\n",
      " 'GalladeMega Gallade' 'Probopass' 'Dusknoir' 'Froslass' 'Rotom'\n",
      " 'RotomHeat Rotom' 'RotomWash Rotom' 'RotomFrost Rotom' 'RotomFan Rotom'\n",
      " 'RotomMow Rotom' 'Uxie' 'Mesprit' 'Azelf' 'Dialga' 'Palkia' 'Heatran'\n",
      " 'Regigigas' 'GiratinaAltered Forme' 'GiratinaOrigin Forme' 'Cresselia'\n",
      " 'Phione' 'Manaphy' 'Darkrai' 'ShayminLand Forme' 'ShayminSky Forme'\n",
      " 'Arceus' 'Victini' 'Snivy' 'Servine' 'Serperior' 'Tepig' 'Pignite'\n",
      " 'Emboar' 'Oshawott' 'Dewott' 'Samurott' 'Patrat' 'Watchog' 'Lillipup'\n",
      " 'Herdier' 'Stoutland' 'Purrloin' 'Liepard' 'Pansage' 'Simisage' 'Pansear'\n",
      " 'Simisear' 'Panpour' 'Simipour' 'Munna' 'Musharna' 'Pidove' 'Tranquill'\n",
      " 'Unfezant' 'Blitzle' 'Zebstrika' 'Roggenrola' 'Boldore' 'Gigalith'\n",
      " 'Woobat' 'Swoobat' 'Drilbur' 'Excadrill' 'Audino' 'AudinoMega Audino'\n",
      " 'Timburr' 'Gurdurr' 'Conkeldurr' 'Tympole' 'Palpitoad' 'Seismitoad'\n",
      " 'Throh' 'Sawk' 'Sewaddle' 'Swadloon' 'Leavanny' 'Venipede' 'Whirlipede'\n",
      " 'Scolipede' 'Cottonee' 'Whimsicott' 'Petilil' 'Lilligant' 'Basculin'\n",
      " 'Sandile' 'Krokorok' 'Krookodile' 'Darumaka' 'DarmanitanStandard Mode'\n",
      " 'DarmanitanZen Mode' 'Maractus' 'Dwebble' 'Crustle' 'Scraggy' 'Scrafty'\n",
      " 'Sigilyph' 'Yamask' 'Cofagrigus' 'Tirtouga' 'Carracosta' 'Archen'\n",
      " 'Archeops' 'Trubbish' 'Garbodor' 'Zorua' 'Zoroark' 'Minccino' 'Cinccino'\n",
      " 'Gothita' 'Gothorita' 'Gothitelle' 'Solosis' 'Duosion' 'Reuniclus'\n",
      " 'Ducklett' 'Swanna' 'Vanillite' 'Vanillish' 'Vanilluxe' 'Deerling'\n",
      " 'Sawsbuck' 'Emolga' 'Karrablast' 'Escavalier' 'Foongus' 'Amoonguss'\n",
      " 'Frillish' 'Jellicent' 'Alomomola' 'Joltik' 'Galvantula' 'Ferroseed'\n",
      " 'Ferrothorn' 'Klink' 'Klang' 'Klinklang' 'Tynamo' 'Eelektrik'\n",
      " 'Eelektross' 'Elgyem' 'Beheeyem' 'Litwick' 'Lampent' 'Chandelure' 'Axew'\n",
      " 'Fraxure' 'Haxorus' 'Cubchoo' 'Beartic' 'Cryogonal' 'Shelmet' 'Accelgor'\n",
      " 'Stunfisk' 'Mienfoo' 'Mienshao' 'Druddigon' 'Golett' 'Golurk' 'Pawniard'\n",
      " 'Bisharp' 'Bouffalant' 'Rufflet' 'Braviary' 'Vullaby' 'Mandibuzz'\n",
      " 'Heatmor' 'Durant' 'Deino' 'Zweilous' 'Hydreigon' 'Larvesta' 'Volcarona'\n",
      " 'Cobalion' 'Terrakion' 'Virizion' 'TornadusIncarnate Forme'\n",
      " 'TornadusTherian Forme' 'ThundurusIncarnate Forme'\n",
      " 'ThundurusTherian Forme' 'Reshiram' 'Zekrom' 'LandorusIncarnate Forme'\n",
      " 'LandorusTherian Forme' 'Kyurem' 'KyuremBlack Kyurem'\n",
      " 'KyuremWhite Kyurem' 'KeldeoOrdinary Forme' 'KeldeoResolute Forme'\n",
      " 'MeloettaAria Forme' 'MeloettaPirouette Forme' 'Genesect' 'Chespin'\n",
      " 'Quilladin' 'Chesnaught' 'Fennekin' 'Braixen' 'Delphox' 'Froakie'\n",
      " 'Frogadier' 'Greninja' 'Bunnelby' 'Diggersby' 'Fletchling' 'Fletchinder'\n",
      " 'Talonflame' 'Scatterbug' 'Spewpa' 'Vivillon' 'Litleo' 'Pyroar'\n",
      " 'FlabÃ©bÃ©' 'Floette' 'Florges' 'Skiddo' 'Gogoat' 'Pancham' 'Pangoro'\n",
      " 'Furfrou' 'Espurr' 'MeowsticMale' 'MeowsticFemale' 'Honedge' 'Doublade'\n",
      " 'AegislashBlade Forme' 'AegislashShield Forme' 'Spritzee' 'Aromatisse'\n",
      " 'Swirlix' 'Slurpuff' 'Inkay' 'Malamar' 'Binacle' 'Barbaracle' 'Skrelp'\n",
      " 'Dragalge' 'Clauncher' 'Clawitzer' 'Helioptile' 'Heliolisk' 'Tyrunt'\n",
      " 'Tyrantrum' 'Amaura' 'Aurorus' 'Sylveon' 'Hawlucha' 'Dedenne' 'Carbink'\n",
      " 'Goomy' 'Sliggoo' 'Goodra' 'Klefki' 'Phantump' 'Trevenant'\n",
      " 'PumpkabooAverage Size' 'PumpkabooSmall Size' 'PumpkabooLarge Size'\n",
      " 'PumpkabooSuper Size' 'GourgeistAverage Size' 'GourgeistSmall Size'\n",
      " 'GourgeistLarge Size' 'GourgeistSuper Size' 'Bergmite' 'Avalugg' 'Noibat'\n",
      " 'Noivern' 'Xerneas' 'Yveltal' 'Zygarde50% Forme' 'Diancie'\n",
      " 'DiancieMega Diancie' 'HoopaHoopa Confined' 'HoopaHoopa Unbound'\n",
      " 'Volcanion']\n"
     ]
    }
   ],
   "source": [
    "pokemon_nomes = np.loadtxt('Pokemon.csv', delimiter=',', skiprows=1, usecols=1, dtype='str')\n",
    "\n",
    "print(pokemon_nomes)"
   ]
  },
  {
   "cell_type": "markdown",
   "id": "87d7aebd",
   "metadata": {},
   "source": [
    "### Questão 2:\n",
    "Para calcular a média de um Array Numpy se usa a função average(). Sabendo disso, imprimir a média de Attack de todos os pokemons\n",
    "\n",
    "Documentação:\n",
    "- https://numpy.org/doc/stable/reference/generated/numpy.average.html"
   ]
  },
  {
   "cell_type": "code",
   "execution_count": 19,
   "id": "67bdcb6d",
   "metadata": {},
   "outputs": [
    {
     "name": "stdout",
     "output_type": "stream",
     "text": [
      "A Média é:  79.00125\n"
     ]
    }
   ],
   "source": [
    "pokemon_media = np.loadtxt('Pokemon.csv', delimiter=',', skiprows=1, usecols=[6])\n",
    "\n",
    "print('A Média é: ', np.average(pokemon_media))"
   ]
  },
  {
   "cell_type": "markdown",
   "id": "0ffc0734",
   "metadata": {},
   "source": [
    "### Questão 3:\n",
    "Sabendo que para encontrar o maior e menor valor de um Array Numpy se usa respectivamente as funções max() e min(). Encontre o maior e menor valor de Hit Points (HP) dos pokemons.\n",
    "\n",
    "Documentação:\n",
    "- https://numpy.org/doc/stable/reference/generated/numpy.max.html\n",
    "- https://numpy.org/doc/stable/reference/generated/numpy.min.html"
   ]
  },
  {
   "cell_type": "code",
   "execution_count": 29,
   "id": "9e0e9857",
   "metadata": {},
   "outputs": [
    {
     "name": "stdout",
     "output_type": "stream",
     "text": [
      "Maior HP: 255.0 \n",
      "Menor HP: 1.0\n"
     ]
    }
   ],
   "source": [
    "pokemon_hp = np.loadtxt('Pokemon.csv', delimiter=',', skiprows=1, usecols=[5])\n",
    "\n",
    "print('Maior HP:', np.max(pokemon_hp), '\\nMenor HP:', np.min(pokemon_hp))"
   ]
  },
  {
   "cell_type": "markdown",
   "id": "6de42e36",
   "metadata": {},
   "source": [
    "### Questão 4:\n",
    "Sabendo que o desvio padrão de um array numpy é calculado através da função std(), encontre o desvio padrão do Attack dos pokemons.\n",
    "\n",
    "Documentação:\n",
    "- https://numpy.org/doc/stable/reference/generated/numpy.std.html"
   ]
  },
  {
   "cell_type": "code",
   "execution_count": 38,
   "id": "39cdb353",
   "metadata": {},
   "outputs": [
    {
     "name": "stdout",
     "output_type": "stream",
     "text": [
      "Desvio padrão do Attack: [ 49.  62.  82. 100.  52.  64.  84. 130. 104.  48.  63.  83. 103.  30.\n",
      "  20.  45.  35.  25.  90. 150.  45.  60.  80.  80.  56.  81.  60.  90.\n",
      "  60.  85.  55.  90.  75. 100.  47.  62.  92.  57.  72. 102.  45.  70.\n",
      "  41.  76.  45.  70.  45.  80.  50.  65.  80.  70.  95.  55.  65.  55.\n",
      "  80.  45.  70.  52.  82.  80. 105.  70. 110.  50.  65.  95.  20.  35.\n",
      "  50.  50.  80. 100. 130.  75.  90. 105.  40.  70.  80.  95. 120.  85.\n",
      " 100.  65.  75.  75.  35.  60.  65.  85. 110.  45.  70.  80. 105.  65.\n",
      "  95.  35.  50.  65.  65.  45.  48.  73. 105. 130.  30.  50.  40.  95.\n",
      "  50.  80. 120. 105.  55.  65.  90.  85. 130.   5.  55.  95. 125.  40.\n",
      "  65.  67.  92.  45.  75.  45. 110.  50.  83.  95. 125. 155. 100.  10.\n",
      " 125. 155.  85.  48.  55.  65.  65. 130.  60.  40.  60.  80. 115. 105.\n",
      " 135. 110.  85.  90. 100.  64.  84. 134. 110. 190. 150. 100.  49.  62.\n",
      "  82.  52.  64.  84.  65.  80. 105.  46.  76.  30.  50.  20.  35.  60.\n",
      "  90.  90.  38.  58.  40.  25.  30.  20.  40.  50.  75.  40.  55.  75.\n",
      "  95.  80.  20.  50. 100.  75.  35.  45.  55.  70.  30.  75.  65.  45.\n",
      "  85.  65.  65.  85.  75.  60.  72.  33.  80.  65.  90.  70.  75.  85.\n",
      " 125.  80. 120.  95. 130. 150.  10. 125. 185.  95.  80. 130.  40.  50.\n",
      "  50. 100.  55.  65. 105.  55.  40.  80.  60.  90.  90.  95.  60. 120.\n",
      "  80.  95.  20.  35.  95.  30.  63.  75.  80.  10.  85. 115.  75.  64.\n",
      "  84. 134. 164.  90. 130. 100.  45.  65.  85. 110.  60.  85. 120. 160.\n",
      "  70.  85. 110. 150.  55.  90.  30.  70.  45.  35.  70.  35.  50.  30.\n",
      "  50.  70.  40.  70. 100.  55.  85.  30.  50.  25.  35.  65.  85.  30.\n",
      "  60.  40. 130.  60.  80. 160.  45.  90.  90.  51.  71.  91.  60. 120.\n",
      "  20.  45.  45.  65.  75.  85.  85. 105.  70.  90. 110. 140.  40.  60.\n",
      " 100.  45.  75.  75.  50.  40.  73.  47.  60.  43.  73.  90. 120. 140.\n",
      "  70.  90.  60. 100. 120.  85.  25.  45.  60. 100.  70. 100.  85. 115.\n",
      "  40.  70. 110. 115. 100.  55.  95.  48.  78.  80. 120.  40.  70.  41.\n",
      "  81.  95. 125.  15.  60.  70.  90.  75. 115. 165.  40.  70.  68.  50.\n",
      " 130. 150.  23.  50.  80. 120.  40.  60.  80.  64. 104.  84.  90.  30.\n",
      "  75.  95. 135. 145.  55.  75. 135. 145. 100.  50.  75.  80. 100.  90.\n",
      " 130. 100. 150. 150. 180. 150. 180. 100. 150. 180.  70.  95.  68.  89.\n",
      " 109.  58.  78. 104.  51.  66.  86.  55.  75. 120.  45.  85.  25.  85.\n",
      "  65.  85. 120.  30.  70. 125. 165.  42.  52.  29.  59.  79.  69.  94.\n",
      "  30.  80.  45.  65. 105.  35.  60.  48.  83. 100.  50.  80.  66.  76.\n",
      " 136.  60. 125.  55.  82.  30.  63.  93.  24.  89.  80.  25.   5.  65.\n",
      "  92.  70.  90. 130. 170.  85.  70. 110. 145.  72. 112.  50.  90.  61.\n",
      " 106. 100.  49.  69.  20.  62.  92. 132. 120.  70.  85. 140. 100. 123.\n",
      "  95.  50.  76. 110.  60.  95. 130.  80. 125. 165.  55. 100.  80.  50.\n",
      "  65.  65.  65.  65.  65.  75. 105. 125. 120. 120.  90. 160. 100. 120.\n",
      "  70.  80. 100.  90. 100. 103. 120. 100.  45.  60.  75.  63.  93. 123.\n",
      "  55.  75. 100.  55.  85.  60.  80. 110.  50.  88.  53.  98.  53.  98.\n",
      "  53.  98.  25.  55.  55.  77. 115.  60. 100.  75. 105. 135.  45.  57.\n",
      "  85. 135.  60.  60.  80. 105. 140.  50.  65.  95. 100. 125.  53.  63.\n",
      " 103.  45.  55. 100.  27.  67.  35.  60.  92.  72.  82. 117.  90. 140.\n",
      "  30.  86.  65.  95.  75.  90.  58.  30.  50.  78. 108. 112. 140.  50.\n",
      "  95.  65. 105.  50.  95.  30.  45.  55.  30.  40.  65.  44.  87.  50.\n",
      "  65.  95.  60. 100.  75.  75. 135.  55.  85.  40.  60.  75.  47.  77.\n",
      "  50.  94.  55.  80. 100.  55.  85. 115.  55.  75.  30.  40.  55.  87.\n",
      " 117. 147.  70. 110.  50.  40.  70.  66.  85. 125. 120.  74. 124.  85.\n",
      " 125. 110.  83. 123.  55.  65.  97. 109.  65.  85. 105.  85.  60.  90.\n",
      " 129.  90. 115. 100. 115. 105. 120. 150. 125. 145. 130. 170. 120.  72.\n",
      "  72.  77. 128. 120.  61.  78. 107.  45.  59.  69.  56.  63.  95.  36.\n",
      "  56.  50.  73.  81.  35.  22.  52.  50.  68.  38.  45.  65.  65. 100.\n",
      "  82. 124.  80.  48.  48.  48.  80. 110. 150.  50.  52.  72.  48.  80.\n",
      "  54.  92.  52. 105.  60.  75.  53.  73.  38.  55.  89. 121.  59.  77.\n",
      "  65.  92.  58.  50.  50.  75. 100.  80.  70. 110.  66.  66.  66.  66.\n",
      "  90.  85.  95. 100.  69. 117.  30.  70. 131. 131. 100. 100. 160. 110.\n",
      " 160. 110.]\n"
     ]
    }
   ],
   "source": [
    "pokemon_attack = np.loadtxt('Pokemon.csv', delimiter=',', skiprows=1, usecols=[6])\n",
    "\n",
    "print('Desvio padrão do Attack:', np.(pokemon_attack))"
   ]
  },
  {
   "cell_type": "markdown",
   "id": "15b5e83e",
   "metadata": {},
   "source": [
    "### Questão 5:\n",
    "Imprima o nome de todos os pokemons que possuem Attack acima da média."
   ]
  },
  {
   "cell_type": "code",
   "execution_count": null,
   "id": "e7b6915b",
   "metadata": {},
   "outputs": [],
   "source": []
  },
  {
   "cell_type": "markdown",
   "id": "0006d210",
   "metadata": {},
   "source": [
    "### Questão 6:\n",
    "Imprima o nome de todos os pokemons que possuem Attack abaixo da média."
   ]
  },
  {
   "cell_type": "code",
   "execution_count": null,
   "id": "42e9e81f",
   "metadata": {},
   "outputs": [],
   "source": []
  },
  {
   "cell_type": "markdown",
   "id": "3e77391c",
   "metadata": {},
   "source": [
    "### Questão 7:\n",
    "Imprima o nome de todos os pokemons que estão acima ou abaixo do desvio padrão."
   ]
  },
  {
   "cell_type": "code",
   "execution_count": null,
   "id": "7c76caa3",
   "metadata": {},
   "outputs": [],
   "source": []
  }
 ],
 "metadata": {
  "kernelspec": {
   "display_name": "Python 3 (ipykernel)",
   "language": "python",
   "name": "python3"
  },
  "language_info": {
   "codemirror_mode": {
    "name": "ipython",
    "version": 3
   },
   "file_extension": ".py",
   "mimetype": "text/x-python",
   "name": "python",
   "nbconvert_exporter": "python",
   "pygments_lexer": "ipython3",
   "version": "3.10.4"
  }
 },
 "nbformat": 4,
 "nbformat_minor": 5
}
