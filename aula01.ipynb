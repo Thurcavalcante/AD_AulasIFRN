{
 "cells": [
  {
   "cell_type": "code",
   "execution_count": 1,
   "id": "77afe97d-e220-49ae-b4c6-92f970856097",
   "metadata": {},
   "outputs": [
    {
     "name": "stdout",
     "output_type": "stream",
     "text": [
      "Kenga\n"
     ]
    }
   ],
   "source": [
    "print(\"Kenga\")"
   ]
  },
  {
   "cell_type": "markdown",
   "id": "ad35e821-964e-49c4-b371-32ce02f9d267",
   "metadata": {},
   "source": [
    "### OLÁ Mundo"
   ]
  },
  {
   "cell_type": "code",
   "execution_count": null,
   "id": "9f51c103-3684-44ab-8c39-228a55bedb36",
   "metadata": {},
   "outputs": [],
   "source": []
  }
 ],
 "metadata": {
  "kernelspec": {
   "display_name": "Python 3 (ipykernel)",
   "language": "python",
   "name": "python3"
  },
  "language_info": {
   "codemirror_mode": {
    "name": "ipython",
    "version": 3
   },
   "file_extension": ".py",
   "mimetype": "text/x-python",
   "name": "python",
   "nbconvert_exporter": "python",
   "pygments_lexer": "ipython3",
   "version": "3.10.4"
  }
 },
 "nbformat": 4,
 "nbformat_minor": 5
}
