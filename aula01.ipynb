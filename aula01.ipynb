{
 "cells": [
  {
   "cell_type": "code",
   "execution_count": 1,
   "id": "77afe97d-e220-49ae-b4c6-92f970856097",
   "metadata": {},
   "outputs": [
    {
     "name": "stdout",
     "output_type": "stream",
     "text": [
      "Kenga\n"
     ]
    }
   ],
   "source": [
    "print(\"Kenga\")"
   ]
  },
  {
   "cell_type": "markdown",
   "id": "ad35e821-964e-49c4-b371-32ce02f9d267",
   "metadata": {},
   "source": [
    "### OLÁ Mundo"
   ]
  },
  {
   "cell_type": "markdown",
   "id": "6f1a92c8-1994-4393-b123-779d07876631",
   "metadata": {},
   "source": [
    "#oi"
   ]
  },
  {
   "cell_type": "markdown",
   "id": "a19d3177-5865-490c-acfd-d1647c9a9d46",
   "metadata": {},
   "source": [
    "#oi"
   ]
  },
  {
   "cell_type": "code",
   "execution_count": 1,
   "id": "9f51c103-3684-44ab-8c39-228a55bedb36",
   "metadata": {},
   "outputs": [],
   "source": [
    "#oi"
   ]
  },
  {
   "cell_type": "markdown",
   "id": "e1305cc7-8d87-44ae-a755-9b9aff446766",
   "metadata": {},
   "source": [
    "# oi"
   ]
  },
  {
   "cell_type": "markdown",
   "id": "4cd9d8f0-c6b3-46e1-8824-b7d593c40320",
   "metadata": {},
   "source": [
    "## oi"
   ]
  }
 ],
 "metadata": {
  "kernelspec": {
   "display_name": "Python 3 (ipykernel)",
   "language": "python",
   "name": "python3"
  },
  "language_info": {
   "codemirror_mode": {
    "name": "ipython",
    "version": 3
   },
   "file_extension": ".py",
   "mimetype": "text/x-python",
   "name": "python",
   "nbconvert_exporter": "python",
   "pygments_lexer": "ipython3",
   "version": "3.10.7"
  }
 },
 "nbformat": 4,
 "nbformat_minor": 5
}
