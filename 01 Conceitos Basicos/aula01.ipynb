{
 "cells": [
  {
   "cell_type": "code",
   "execution_count": 1,
   "id": "fb899fb7",
   "metadata": {},
   "outputs": [
    {
     "name": "stdout",
     "output_type": "stream",
     "text": [
      "É preciso fazer todos os algoritmos\n",
      "para aprender Python!!\n"
     ]
    }
   ],
   "source": [
    "#Questão 1\n",
    "print(\"É preciso fazer todos os algoritmos\")\n",
    "print(\"para aprender Python!!\")"
   ]
  },
  {
   "cell_type": "markdown",
   "id": "0eab11b7",
   "metadata": {},
   "source": [
    "É preciso fazer todos os algoritmos\n",
    "para aprender Python!!\n",
    "Python é uma linguagem fracamente tipada, isso quer dizer que eu não preciso informar o tipo da variável"
   ]
  },
  {
   "cell_type": "code",
   "execution_count": null,
   "id": "6d37816f",
   "metadata": {},
   "outputs": [],
   "source": [
    "# Comentário em 1 linha\n",
    "\n",
    "'''\n",
    "Comentário\n",
    "em várias\n",
    "linhas\n",
    "'''\n",
    "\n",
    "\"\"\"\n",
    "Comentário em várias\n",
    "linhas\n",
    "\"\"\""
   ]
  }
 ],
 "metadata": {
  "kernelspec": {
   "display_name": "Python 3 (ipykernel)",
   "language": "python",
   "name": "python3"
  },
  "language_info": {
   "codemirror_mode": {
    "name": "ipython",
    "version": 3
   },
   "file_extension": ".py",
   "mimetype": "text/x-python",
   "name": "python",
   "nbconvert_exporter": "python",
   "pygments_lexer": "ipython3",
   "version": "3.10.7"
  }
 },
 "nbformat": 4,
 "nbformat_minor": 5
}
