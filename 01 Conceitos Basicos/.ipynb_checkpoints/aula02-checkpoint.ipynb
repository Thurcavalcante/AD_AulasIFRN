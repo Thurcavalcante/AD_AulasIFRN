{
 "cells": [
  {
   "cell_type": "markdown",
   "id": "c135b411-49a5-498a-b04a-2be79b82f04e",
   "metadata": {},
   "source": [
    "Tipos de dados em Python\n",
    "- Inteiros;\n",
    "- Real;\n",
    "- Texto;\n",
    "- Booleano."
   ]
  },
  {
   "cell_type": "code",
   "execution_count": null,
   "id": "6a52dcc2-6724-4318-b0ed-debedd34be28",
   "metadata": {},
   "outputs": [],
   "source": [
    "idade = 30\n",
    "nota = 10.5\n",
    "nome = 'Arthur'\n",
    "valor = True"
   ]
  },
  {
   "cell_type": "markdown",
   "id": "fab949ee-0136-4219-81ca-cbf0fa36a720",
   "metadata": {},
   "source": [
    "### Estruturas Condicionais"
   ]
  },
  {
   "cell_type": "code",
   "execution_count": 6,
   "id": "495df0bc-91a3-4e79-b19f-e1f4fc41bfdb",
   "metadata": {},
   "outputs": [],
   "source": [
    "valor = 0 \n",
    "if valor>0:\n",
    "    print(\"Valor Positivo\")"
   ]
  },
  {
   "cell_type": "code",
   "execution_count": 7,
   "id": "0550d5cc-61c3-4936-a823-841207f07257",
   "metadata": {},
   "outputs": [
    {
     "name": "stdout",
     "output_type": "stream",
     "text": [
      "Valor Positivo\n"
     ]
    }
   ],
   "source": [
    "valor = 5 \n",
    "if valor>0:\n",
    "    print(\"Valor Positivo\")\n",
    "else:\n",
    "    print(\"Valor Negativo\")"
   ]
  },
  {
   "cell_type": "code",
   "execution_count": 12,
   "id": "8afc1128-4593-4189-9cca-706ccab0770f",
   "metadata": {},
   "outputs": [
    {
     "name": "stdout",
     "output_type": "stream",
     "text": [
      "Negativo\n"
     ]
    }
   ],
   "source": [
    "valor = -2\n",
    "if valor>0:\n",
    "    print(\"Positivo\")\n",
    "elif valor==0:\n",
    "    print(\"Zero\")\n",
    "else: \n",
    "    print(\"Negativo\")"
   ]
  },
  {
   "cell_type": "markdown",
   "id": "3a45b62e-bb20-4ebe-9f72-570b332f64a9",
   "metadata": {},
   "source": [
    "### Lista de Dados (Array)\n",
    "- Usa colchetes para agrupar os elementos\n",
    "- Através da lista é possível salvar vários valores em uma única varíavel."
   ]
  },
  {
   "cell_type": "code",
   "execution_count": 27,
   "id": "c809e91e-5026-4bf5-a712-095ad758e0a1",
   "metadata": {},
   "outputs": [
    {
     "data": {
      "text/plain": [
       "'Analise'"
      ]
     },
     "execution_count": 27,
     "metadata": {},
     "output_type": "execute_result"
    }
   ],
   "source": [
    "idade = [30, 18, 23]\n",
    "notas = [8.5, 7.5]\n",
    "nomes = [\"IFRN\", \"IFPB\", \"IFPE\"]\n",
    "valores = [True, False, False]\n",
    "diversos = [30, 5.3, \"Analise\", True]\n",
    "\n",
    "diversos[2]\n",
    "\n",
    "# print(idade)\n",
    "# print(notas)\n",
    "# print(nomes)\n",
    "# print(valores)\n",
    "# print(diversos)"
   ]
  },
  {
   "cell_type": "code",
   "execution_count": 30,
   "id": "fb9d6574-c8a8-401f-bd6e-a32293155c8e",
   "metadata": {},
   "outputs": [
    {
     "name": "stdout",
     "output_type": "stream",
     "text": [
      "2\n"
     ]
    }
   ],
   "source": [
    "# O exemplo a seguir possui uma lista dentro de outra lista\n",
    "\n",
    "lista_1 = [5, 3, [2, 1]]\n",
    "print(lista_1[2][0])"
   ]
  },
  {
   "cell_type": "code",
   "execution_count": 31,
   "id": "ed54edab-e815-4db4-bb7d-30827e252ffa",
   "metadata": {},
   "outputs": [
    {
     "name": "stdout",
     "output_type": "stream",
     "text": [
      "4\n"
     ]
    }
   ],
   "source": [
    "# \"len\" Conta quantos elemento tem dentro de um Array\n",
    "lista_2 = [2, 54, 2, 1]\n",
    "print(len(lista_2))"
   ]
  },
  {
   "cell_type": "markdown",
   "id": "0e989990-86f6-4161-b3cc-d98415b192ec",
   "metadata": {},
   "source": [
    "## Estruturas de Repetição"
   ]
  },
  {
   "cell_type": "code",
   "execution_count": 32,
   "id": "2e996331-7745-4bcb-a53c-d501d38b3c66",
   "metadata": {},
   "outputs": [
    {
     "name": "stdout",
     "output_type": "stream",
     "text": [
      "1\n",
      "2\n",
      "3\n",
      "4\n",
      "5\n"
     ]
    }
   ],
   "source": [
    "# Os elementos do Array, vão para a variavel e depois é imprimida\n",
    "for numero in [1, 2, 3, 4, 5]:\n",
    "    print(numero)"
   ]
  },
  {
   "cell_type": "code",
   "execution_count": 34,
   "id": "2755f718-551f-4241-9a41-b35318786d85",
   "metadata": {},
   "outputs": [
    {
     "ename": "SyntaxError",
     "evalue": "invalid syntax (3083956589.py, line 3)",
     "output_type": "error",
     "traceback": [
      "\u001b[1;36m  Cell \u001b[1;32mIn[34], line 3\u001b[1;36m\u001b[0m\n\u001b[1;33m    [19]:\u001b[0m\n\u001b[1;37m        ^\u001b[0m\n\u001b[1;31mSyntaxError\u001b[0m\u001b[1;31m:\u001b[0m invalid syntax\n"
     ]
    }
   ],
   "source": [
    "# A funcção \"range\" serve para gerar uma lista de dados\n",
    "\n",
    "list(range(10))\n",
    "\n",
    "list(range(1, 10))\n",
    "\n",
    "list(range(1, 10, 2))\n",
    "\n",
    "list(range(1, 3, 5, 7))"
   ]
  },
  {
   "cell_type": "code",
   "execution_count": null,
   "id": "a427b7eb-2825-4bb7-b36f-2cc892747056",
   "metadata": {},
   "outputs": [],
   "source": [
    "for numero in range(1, 11):\n",
    "    print(numero)"
   ]
  }
 ],
 "metadata": {
  "kernelspec": {
   "display_name": "Python 3 (ipykernel)",
   "language": "python",
   "name": "python3"
  },
  "language_info": {
   "codemirror_mode": {
    "name": "ipython",
    "version": 3
   },
   "file_extension": ".py",
   "mimetype": "text/x-python",
   "name": "python",
   "nbconvert_exporter": "python",
   "pygments_lexer": "ipython3",
   "version": "3.10.4"
  }
 },
 "nbformat": 4,
 "nbformat_minor": 5
}
