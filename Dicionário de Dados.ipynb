{
 "cells": [
  {
   "cell_type": "markdown",
   "id": "1a979d42-849b-4a6f-83d6-033340ba801c",
   "metadata": {},
   "source": [
    "# Dicionário de Dados"
   ]
  },
  {
   "cell_type": "markdown",
   "id": "c36ae864-92f0-4509-a8ff-eed80202f769",
   "metadata": {},
   "source": [
    "Estrutura que permite armazenar o conceito de chave e valor.\n",
    "- Cada posição do dicionário possui uma chave e um valor correspondente;\n",
    "- É criando atráves de chaves { }"
   ]
  },
  {
   "cell_type": "code",
   "execution_count": 2,
   "id": "9f5c1d02-7276-4bc1-9ae6-2c788847a9df",
   "metadata": {},
   "outputs": [],
   "source": [
    "# Criando um dicionário de Dados\n",
    "\n",
    "dicionario_1 = { \"chave\":\"valor1\", \"chave2\":\"valor2\" }"
   ]
  },
  {
   "cell_type": "code",
   "execution_count": 3,
   "id": "c619c020-badf-4f83-9323-90203717409f",
   "metadata": {},
   "outputs": [],
   "source": [
    "# Forma organizada de representar um dicionário\n",
    "\n",
    "dicionario_1 = {\n",
    "    \"chave1\":\"valor1\",\n",
    "    \"chave2\":\"valor2\",\n",
    "}"
   ]
  },
  {
   "cell_type": "code",
   "execution_count": 4,
   "id": "2c488818-0b5a-457d-a32f-bc32bd7559db",
   "metadata": {},
   "outputs": [],
   "source": [
    "#O dicionário pode ter chaves e valores de diferentes tipos\n",
    "\n",
    "dicionario_2 = {\n",
    "    \"nota1\":10,\n",
    "    \"nota2\":20\n",
    "}"
   ]
  },
  {
   "cell_type": "code",
   "execution_count": 5,
   "id": "d6474a07-de67-4fb7-91cc-cad2577a5cca",
   "metadata": {},
   "outputs": [
    {
     "name": "stdout",
     "output_type": "stream",
     "text": [
      "valor1\n"
     ]
    }
   ],
   "source": [
    "# Para acessar um valor de um dicionário é necessário, utilizar colchetes e a chave\n",
    "\n",
    "dicionario_1 = {\n",
    "    \"chave1\":\"valor1\", \n",
    "    \"chave2\":\"valor2\"\n",
    "}\n",
    "\n",
    "print(dicionario_1[\"chave1\"])"
   ]
  },
  {
   "cell_type": "code",
   "execution_count": 11,
   "id": "52484851-648f-4e28-a326-1b5fcb4bbd02",
   "metadata": {},
   "outputs": [
    {
     "name": "stdout",
     "output_type": "stream",
     "text": [
      "20\n"
     ]
    }
   ],
   "source": [
    "# Criando um dicionário vazio e adicionando valores manualmente\n",
    "\n",
    "dicionario_3 = {}\n",
    "dicionario_3[\"nota1\"] = 20\n",
    "dicionario_3[\"nota2\"] = 50\n",
    "\n",
    "print(dicionario_3[\"nota1\"])"
   ]
  },
  {
   "cell_type": "code",
   "execution_count": 10,
   "id": "1f8e365e-78d5-4a12-8a7a-4df9a1a21bd0",
   "metadata": {},
   "outputs": [
    {
     "name": "stdout",
     "output_type": "stream",
     "text": [
      "valor3\n"
     ]
    }
   ],
   "source": [
    "dicionario_1 = {\n",
    "    \"chave1\":\"valor1\", \n",
    "    \"chave2\":\"valor2\"\n",
    "}\n",
    "\n",
    "dicionario_1 [\"chave3\"] = \"valor3\"\n",
    "\n",
    "print(dicionario_1[\"chave3\"])"
   ]
  },
  {
   "cell_type": "code",
   "execution_count": 13,
   "id": "a6f721ba-7983-4fec-8a21-35a775e7e936",
   "metadata": {},
   "outputs": [
    {
     "name": "stdout",
     "output_type": "stream",
     "text": [
      "3\n"
     ]
    }
   ],
   "source": [
    "# Tamanho de um dicionario - len()\n",
    "\n",
    "dicionario_1 = {\n",
    "    \"chave1\":\"valor1\",\n",
    "    \"chave2\":\"valor2\",\n",
    "    \"chave3\":\"valor3\"\n",
    "}\n",
    "\n",
    "print(len(dicionario_1))"
   ]
  },
  {
   "cell_type": "code",
   "execution_count": 14,
   "id": "f36ef0f3-8395-49da-8f2d-b9b580895188",
   "metadata": {},
   "outputs": [
    {
     "name": "stdout",
     "output_type": "stream",
     "text": [
      "{}\n"
     ]
    }
   ],
   "source": [
    "# Zerar um dicionário - clear()\n",
    "\n",
    "dicionario_1 = {\n",
    "    \"chave1\":\"valor1\",\n",
    "    \"chave2\":\"valor2\",\n",
    "    \"chave3\":\"valor3\"\n",
    "}\n",
    "\n",
    "dicionario_1.clear()\n",
    "print(dicionario_1)"
   ]
  },
  {
   "cell_type": "code",
   "execution_count": 19,
   "id": "502964b5-22de-4d27-ae63-9923b7200778",
   "metadata": {},
   "outputs": [
    {
     "name": "stdout",
     "output_type": "stream",
     "text": [
      "dict_keys(['chave1', 'chave2', 'chave3'])\n",
      "chave1\n"
     ]
    }
   ],
   "source": [
    "# Acessando todas chaves do dicionario - keys() \n",
    "\n",
    "dicionario_1 = {\n",
    "    \"chave1\":\"valor1\",\n",
    "    \"chave2\":\"valor2\",\n",
    "    \"chave3\":\"valor3\"\n",
    "}\n",
    "\n",
    "print(dicionario_1.keys())\n",
    "print(list(dicionario_1.keys())[0])"
   ]
  },
  {
   "cell_type": "code",
   "execution_count": 21,
   "id": "81117101-883a-4b46-8fac-00f9ae695d0d",
   "metadata": {},
   "outputs": [
    {
     "name": "stdout",
     "output_type": "stream",
     "text": [
      "dict_values(['valor1', 'valor2', 'valor3'])\n"
     ]
    }
   ],
   "source": [
    "# Acessando os valores - values()\n",
    "\n",
    "print(dicionario_1.values())"
   ]
  },
  {
   "cell_type": "code",
   "execution_count": 23,
   "id": "f2b8bacc-be3b-4a4a-9648-8b889b044a97",
   "metadata": {},
   "outputs": [
    {
     "name": "stdout",
     "output_type": "stream",
     "text": [
      "valor2\n"
     ]
    }
   ],
   "source": [
    "# Convertendo para lista e acessando os elementos via posição\n",
    "\n",
    "print(list(dicionario_1.values())[1])"
   ]
  },
  {
   "cell_type": "code",
   "execution_count": 26,
   "id": "a58efd07-138b-40ba-ba1e-4573d2655274",
   "metadata": {},
   "outputs": [
    {
     "name": "stdout",
     "output_type": "stream",
     "text": [
      "valor1\n",
      "valor2\n",
      "valor3\n"
     ]
    }
   ],
   "source": [
    "'''\n",
    "Como imprimir todos os valores do dicionário a seguir\n",
    "sem saber quais são as chaves e quantos elementos ele\n",
    "possui.\n",
    "'''\n",
    "\n",
    "dicionario_1 = {\n",
    "    \"chave1\":\"valor1\",\n",
    "    \"chave2\":\"valor2\",\n",
    "    \"chave3\":\"valor3\"\n",
    "}\n",
    "\n",
    "for valor in dicionario_1.values():\n",
    "    print(valor)"
   ]
  },
  {
   "cell_type": "code",
   "execution_count": 27,
   "id": "6022d3b0-cba4-4f27-9ba2-0fe4fd9f96d0",
   "metadata": {},
   "outputs": [
    {
     "name": "stdout",
     "output_type": "stream",
     "text": [
      "Chave:  chave1\n",
      "Valor:  valor1\n",
      "Chave:  chave2\n",
      "Valor:  valor2\n",
      "Chave:  chave3\n",
      "Valor:  valor3\n"
     ]
    }
   ],
   "source": [
    "'''\n",
    "Como imprimir todas as chaves e valores do dicionário a seguir\n",
    "sem saber quais são as chaves e quantos elementos ele\n",
    "possui.\n",
    "'''\n",
    "\n",
    "dicionario_1 = {\n",
    "    \"chave1\":\"valor1\",\n",
    "    \"chave2\":\"valor2\",\n",
    "    \"chave3\":\"valor3\"\n",
    "}\n",
    "\n",
    "for chave in dicionario_1.keys():\n",
    "    print(\"Chave: \",chave)\n",
    "    print(\"Valor: \",dicionario_1[chave])"
   ]
  },
  {
   "cell_type": "code",
   "execution_count": 34,
   "id": "0ae3c09d-3226-442b-a027-fc966a2e2f7f",
   "metadata": {},
   "outputs": [
    {
     "name": "stdout",
     "output_type": "stream",
     "text": [
      "Chave:  chave1 | Valor:  valor1\n",
      "Chave:  chave2 | Valor:  valor2\n",
      "Chave:  chave3 | Valor:  valor3\n"
     ]
    }
   ],
   "source": [
    "'''\n",
    "A função items() retorna ao mesmo tempo\n",
    "a chave e valor (retorno duplo)\n",
    "'''\n",
    "\n",
    "for chave,valor in dicionario_1.items():\n",
    "    print(\"Chave: \",chave, \"| \" \"Valor: \",valor)"
   ]
  },
  {
   "cell_type": "code",
   "execution_count": 37,
   "id": "a07394d1-1198-4e5c-9b5d-0639dd31d5ba",
   "metadata": {},
   "outputs": [
    {
     "name": "stdout",
     "output_type": "stream",
     "text": [
      "80\n"
     ]
    }
   ],
   "source": [
    "# É possível salvar uma lista como valor de um dicionário\n",
    "\n",
    "dicionario_4 = {\n",
    "    \"notas1\":[80, 50],\n",
    "    \"notas2\":[60, 100]\n",
    "}\n",
    "\n",
    "print(dicionario_4[\"notas1\"][0])"
   ]
  },
  {
   "cell_type": "code",
   "execution_count": 41,
   "id": "eafab7d5-0e2c-42d9-8ce6-481a8bf025ef",
   "metadata": {},
   "outputs": [
    {
     "name": "stdout",
     "output_type": "stream",
     "text": [
      "{'nota1': 80, 'nota2': 60, 'nome': 'Arthur Cavalcante', 'CPF': '12345678910'}\n",
      "\n",
      "dict_values([80, 60, 'Arthur Cavalcante', '12345678910'])\n"
     ]
    }
   ],
   "source": [
    "# Para unir dois dicionários, se usa a função update()\n",
    "\n",
    "dicionario_5 = {\n",
    "    \"nota1\":80,\n",
    "    \"nota2\":60,\n",
    "}\n",
    "\n",
    "dicionario_6 = {\n",
    "    \"nome\":\"Arthur Cavalcante\",\n",
    "    \"CPF\":\"12345678910\"\n",
    "}\n",
    "\n",
    "dicionario_5.update(dicionario_6)\n",
    "print(dicionario_5)\n",
    "print()\n",
    "print(dicionario_5.values())"
   ]
  },
  {
   "cell_type": "code",
   "execution_count": 42,
   "id": "c7ba62fd-6251-4afd-8e22-beae59cf958f",
   "metadata": {},
   "outputs": [
    {
     "ename": "NameError",
     "evalue": "name 'dicionario_5' is not defined",
     "output_type": "error",
     "traceback": [
      "\u001b[1;31m--------------------------------------------------\u001b[0m",
      "\u001b[1;31mNameError\u001b[0m        Traceback (most recent call last)",
      "Cell \u001b[1;32mIn[42], line 4\u001b[0m\n\u001b[0;32m      1\u001b[0m \u001b[38;5;66;03m# Apaga o dicionário\u001b[39;00m\n\u001b[0;32m      3\u001b[0m \u001b[38;5;28;01mdel\u001b[39;00m(dicionario_5)\n\u001b[1;32m----> 4\u001b[0m \u001b[38;5;28mprint\u001b[39m(\u001b[43mdicionario_5\u001b[49m)\n",
      "\u001b[1;31mNameError\u001b[0m: name 'dicionario_5' is not defined"
     ]
    }
   ],
   "source": [
    "# Apaga o dicionário CONSERTAR\n",
    "\n",
    "del(dicionario_5)\n",
    "print(dicionario_5)\n"
   ]
  },
  {
   "cell_type": "code",
   "execution_count": 43,
   "id": "96355e4a-a179-43c6-bf41-22f80cfb081c",
   "metadata": {},
   "outputs": [
    {
     "name": "stdout",
     "output_type": "stream",
     "text": [
      "{'nota2': 60}\n"
     ]
    }
   ],
   "source": [
    "# Remove um conjunto de chave e valor -função pop()\n",
    "\n",
    "dicionario_5 = {\n",
    "    \"nota1\":80,\n",
    "    \"nota2\":60,\n",
    "}\n",
    "\n",
    "dicionario_5.pop(\"nota1\")\n",
    "print(dicionario_5)"
   ]
  }
 ],
 "metadata": {
  "kernelspec": {
   "display_name": "Python 3 (ipykernel)",
   "language": "python",
   "name": "python3"
  },
  "language_info": {
   "codemirror_mode": {
    "name": "ipython",
    "version": 3
   },
   "file_extension": ".py",
   "mimetype": "text/x-python",
   "name": "python",
   "nbconvert_exporter": "python",
   "pygments_lexer": "ipython3",
   "version": "3.10.4"
  }
 },
 "nbformat": 4,
 "nbformat_minor": 5
}
