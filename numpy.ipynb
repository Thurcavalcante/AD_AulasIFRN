{
 "cells": [
  {
   "cell_type": "markdown",
   "id": "4e05df67-6cd6-4665-857a-e32784f40165",
   "metadata": {},
   "source": [
    "# Numpy"
   ]
  },
  {
   "cell_type": "markdown",
   "id": "345e68cb-5604-4d7b-9513-4df851dfe517",
   "metadata": {},
   "source": [
    "# Pacote para operações matemáticas que suportam análise estatística, análise de dados, inteligencia artificial, entre outros.\n",
    "\n",
    "Numpy = Numerical Python\n",
    "\n",
    "- Numpy trabalha com o conceito de Array e tem suporte a leitura de database;\n",
    "- Disponibiliza diversas funções de cálculos e estátisticas;\n",
    "\n",
    "Site: https://numpy.org\n",
    "\n",
    "Intalação: pip install numpy"
   ]
  },
  {
   "cell_type": "markdown",
   "id": "ede4a11b-bc56-4118-97a0-3b6916e19bee",
   "metadata": {},
   "source": [
    "## Array Numpy\n",
    "\n",
    "### Array numpy: É uma lista de dados de mesmo tipo.\n",
    "\n",
    "Nomeclatura Oficial: ndarray\n",
    "- 1-D array - array com 1 dimesão - vetor, lista\n",
    "- 2-D array - array com 2 dimensões - matriz\n",
    "- 3-D ou mais array - array com 3 dimensões - tensor"
   ]
  },
  {
   "cell_type": "code",
   "execution_count": 10,
   "id": "94b41ac8-2400-482e-8bb6-13625c331869",
   "metadata": {},
   "outputs": [],
   "source": [
    "# Importando a biblioteca numpy\n",
    "\n",
    "import numpy as np"
   ]
  },
  {
   "cell_type": "code",
   "execution_count": 11,
   "id": "8f7db48f-d969-4ef7-9ed4-af2659d94eb3",
   "metadata": {},
   "outputs": [
    {
     "name": "stdout",
     "output_type": "stream",
     "text": [
      "[ 2  6  5  1 55]\n"
     ]
    }
   ],
   "source": [
    " # Criando um array numpy\n",
    "\n",
    "array_01 = np.array([2, 6, 5, 1, 55])\n",
    "print(array_01)"
   ]
  },
  {
   "cell_type": "code",
   "execution_count": 13,
   "id": "d6839ca6-866d-4026-8d81-4fda5ac0a39a",
   "metadata": {},
   "outputs": [
    {
     "name": "stdout",
     "output_type": "stream",
     "text": [
      "<class 'numpy.ndarray'>\n"
     ]
    }
   ],
   "source": [
    "# type() - é um função python para viaualizar o tipo de dado\n",
    "\n",
    "print(type(array_01))"
   ]
  },
  {
   "cell_type": "markdown",
   "id": "6e98b452-d42d-4bab-afec-1eb805ccb621",
   "metadata": {},
   "source": [
    "## Propriedades"
   ]
  },
  {
   "cell_type": "code",
   "execution_count": 15,
   "id": "dc70d138-1b44-4215-bb40-48190c77c5b4",
   "metadata": {},
   "outputs": [
    {
     "name": "stdout",
     "output_type": "stream",
     "text": [
      "int32\n"
     ]
    }
   ],
   "source": [
    "# dtype() - Imprime o tipo dos dados do array numpy\n",
    "\n",
    "print(array_01.dtype)"
   ]
  },
  {
   "cell_type": "code",
   "execution_count": 17,
   "id": "f293d964-20f6-4251-8a94-607affdb9026",
   "metadata": {},
   "outputs": [
    {
     "name": "stdout",
     "output_type": "stream",
     "text": [
      "(5,)\n"
     ]
    }
   ],
   "source": [
    "# shape() - dimensão e quantidade de elementos do array numpy\n",
    "\n",
    "print(array_01.shape)"
   ]
  },
  {
   "cell_type": "code",
   "execution_count": 22,
   "id": "336435ae-61eb-4916-91dd-48925fb2a692",
   "metadata": {},
   "outputs": [
    {
     "name": "stdout",
     "output_type": "stream",
     "text": [
      "5\n"
     ]
    }
   ],
   "source": [
    "# size() - Apenas a quantidade de elementos do array\n",
    "\n",
    "array_01 = np.array([2, 6, 5, 1, 55])\n",
    "print(array_01.size)"
   ]
  },
  {
   "cell_type": "markdown",
   "id": "46a6110b-981e-43b3-801e-485c2f976f00",
   "metadata": {},
   "source": [
    "## Funções "
   ]
  },
  {
   "cell_type": "code",
   "execution_count": 23,
   "id": "8bdd674a-78a7-4527-b59f-90737178cd46",
   "metadata": {},
   "outputs": [
    {
     "name": "stdout",
     "output_type": "stream",
     "text": [
      "[ 2  8 13 14 69]\n"
     ]
    }
   ],
   "source": [
    "# cumsum() - gera um novo array numpy com a soma acumulada dos elementos\n",
    "\n",
    "array_01 = np.array([2, 6, 5, 1, 55])\n",
    "print(array_01.cumsum())"
   ]
  },
  {
   "cell_type": "code",
   "execution_count": 32,
   "id": "12f62976-ebf6-4067-8af4-a396ab18363b",
   "metadata": {},
   "outputs": [
    {
     "name": "stdout",
     "output_type": "stream",
     "text": [
      "[0 1]\n"
     ]
    }
   ],
   "source": [
    "# arange() - Cria um array numpy seguindo a mesma lógica da função range()\n",
    "\n",
    "array_01 = np.arange(2)\n",
    "print(array_01)"
   ]
  },
  {
   "cell_type": "code",
   "execution_count": 33,
   "id": "e7e14dc2-c001-4ded-ae2b-721e5ac51c41",
   "metadata": {},
   "outputs": [
    {
     "name": "stdout",
     "output_type": "stream",
     "text": [
      "[0 1 2 3 4 5 6 7 8 9]\n"
     ]
    }
   ],
   "source": [
    "\n",
    "array_01 = np.arange(10)\n",
    "print(array_01)"
   ]
  },
  {
   "cell_type": "code",
   "execution_count": 31,
   "id": "37bba68c-004f-46dc-9808-dedd8183b140",
   "metadata": {},
   "outputs": [
    {
     "name": "stdout",
     "output_type": "stream",
     "text": [
      "[2 3 4 5 6 7 8 9]\n"
     ]
    }
   ],
   "source": [
    "\n",
    "array_01 = np.arange(2, 10)\n",
    "print(array_01)"
   ]
  },
  {
   "cell_type": "code",
   "execution_count": 35,
   "id": "b3e1f8a7-b30f-422d-8292-a2b7b1031ef2",
   "metadata": {},
   "outputs": [
    {
     "name": "stdout",
     "output_type": "stream",
     "text": [
      "[2 4 6 8]\n"
     ]
    }
   ],
   "source": [
    "\n",
    "array_01 = np.arange(2, 10, 2)\n",
    "print(array_01)"
   ]
  },
  {
   "cell_type": "code",
   "execution_count": 37,
   "id": "f53a8922-888e-4471-a87c-aec64f19fefb",
   "metadata": {},
   "outputs": [
    {
     "name": "stdout",
     "output_type": "stream",
     "text": [
      "[2 6]\n"
     ]
    }
   ],
   "source": [
    "array_01 = np.arange(2, 10, 4)\n",
    "print(array_01)"
   ]
  },
  {
   "cell_type": "code",
   "execution_count": 36,
   "id": "4b0036ed-8536-4440-a183-7f8c567763f8",
   "metadata": {},
   "outputs": [
    {
     "name": "stdout",
     "output_type": "stream",
     "text": [
      "[ 1.  4.  7. 10.]\n"
     ]
    }
   ],
   "source": [
    "'''\n",
    "linspace() - gera um array numpy que:\n",
    "(1, 10, 4)\n",
    "1 - Número inicial do intervalo\n",
    "10 - Número final do intervalo\n",
    "4 - Deve preencher o array com 4 elementos deste intervalo com o mesmo espaçamento entre eles.\n",
    "'''\n",
    "\n",
    "array_01= np.linspace(1, 10, 4)\n",
    "print(array_01)"
   ]
  },
  {
   "cell_type": "code",
   "execution_count": 41,
   "id": "fecb54ea-a9e9-4acd-8664-403a1850c943",
   "metadata": {},
   "outputs": [
    {
     "name": "stdout",
     "output_type": "stream",
     "text": [
      "[False  True  True  True]\n"
     ]
    }
   ],
   "source": [
    "# equal() - compara os elementos de um array numpy, resultando em um array de booleanos\n",
    "\n",
    "array_02 = np.array([1,4,7,4])\n",
    "array_03 = np.array([2,4,7,4])\n",
    "print(np.equal(array_02, array_03))"
   ]
  },
  {
   "cell_type": "code",
   "execution_count": 42,
   "id": "83aae390-5441-43a8-844f-9d10a95a6427",
   "metadata": {},
   "outputs": [
    {
     "name": "stdout",
     "output_type": "stream",
     "text": [
      "False\n"
     ]
    }
   ],
   "source": [
    "# array_equal() - compara se o array é igual ao outro\n",
    "\n",
    "array_02 = np.array([1,4,7,4])\n",
    "array_03 = np.array([2,4,7,4])\n",
    "print(np.array_equal(array_02, array_03))"
   ]
  },
  {
   "cell_type": "markdown",
   "id": "c539ef67-01ac-443a-a49d-33a17a38939f",
   "metadata": {},
   "source": [
    "## Slicing de Array numpy (fatiamento)"
   ]
  },
  {
   "cell_type": "code",
   "execution_count": 52,
   "id": "0974509b-5d57-4bc9-93c8-2b0a312c0dca",
   "metadata": {},
   "outputs": [
    {
     "name": "stdout",
     "output_type": "stream",
     "text": [
      "[ 0  1  2  3  4  5  6  7  8  9 10 11 12 13 14 15 16 17 18 19]\n"
     ]
    }
   ],
   "source": [
    "array_04 = np.arange(20)\n",
    "print(array_04)"
   ]
  },
  {
   "cell_type": "code",
   "execution_count": 53,
   "id": "526ea216-b4a7-4e84-8642-41e76afd77bb",
   "metadata": {},
   "outputs": [
    {
     "name": "stdout",
     "output_type": "stream",
     "text": [
      "[ 5  7  9 11 13]\n"
     ]
    }
   ],
   "source": [
    "print(array_04[5:15:2])"
   ]
  },
  {
   "cell_type": "code",
   "execution_count": 54,
   "id": "06f0e169-af1b-41f2-9fb4-38a193d1f6a5",
   "metadata": {},
   "outputs": [
    {
     "name": "stdout",
     "output_type": "stream",
     "text": [
      "[ 5  6  7  8  9 10 11 12 13 14 15 16 17 18 19]\n"
     ]
    }
   ],
   "source": [
    "print(array_04[5::])"
   ]
  },
  {
   "cell_type": "code",
   "execution_count": null,
   "id": "9706243d-bf86-46be-b5c7-e01ff5aa1b5b",
   "metadata": {},
   "outputs": [],
   "source": []
  }
 ],
 "metadata": {
  "kernelspec": {
   "display_name": "Python 3 (ipykernel)",
   "language": "python",
   "name": "python3"
  },
  "language_info": {
   "codemirror_mode": {
    "name": "ipython",
    "version": 3
   },
   "file_extension": ".py",
   "mimetype": "text/x-python",
   "name": "python",
   "nbconvert_exporter": "python",
   "pygments_lexer": "ipython3",
   "version": "3.10.4"
  }
 },
 "nbformat": 4,
 "nbformat_minor": 5
}
