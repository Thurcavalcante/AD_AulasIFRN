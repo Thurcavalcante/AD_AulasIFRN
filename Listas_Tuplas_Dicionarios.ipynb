{
 "cells": [
  {
   "cell_type": "markdown",
   "id": "ba680750-8db1-435f-8dd7-73be040057c7",
   "metadata": {},
   "source": [
    "# Lista de Dados"
   ]
  },
  {
   "cell_type": "code",
   "execution_count": 6,
   "id": "6b1605af-fed9-444f-93b6-1f9c5238af91",
   "metadata": {},
   "outputs": [],
   "source": [
    "lista_1 = [1, 6, 10, 20]\n",
    "lista_2 = [4.5, 3.1, 5.0]\n",
    "lista_3 = ['nota1', 'nota2']\n",
    "lista_4 = [True, False, False]\n",
    "lista_5 = [1, 'nota1', 2.5, False]\n",
    "lista_6 = [5, 3, [5, 2, 1]]"
   ]
  },
  {
   "cell_type": "code",
   "execution_count": 8,
   "id": "721e0068-ad37-4999-8e7f-966ad65802ff",
   "metadata": {},
   "outputs": [
    {
     "name": "stdout",
     "output_type": "stream",
     "text": [
      "[5, 2, 1]\n"
     ]
    }
   ],
   "source": [
    "lista_6 = [5, 3, [5, 2, 1]]\n",
    "print(lista_6[2])"
   ]
  },
  {
   "cell_type": "code",
   "execution_count": 10,
   "id": "bceef219-4fd1-4504-9b78-2b046e95d542",
   "metadata": {},
   "outputs": [
    {
     "name": "stdout",
     "output_type": "stream",
     "text": [
      "2\n"
     ]
    }
   ],
   "source": [
    "print(lista_6[2][1])"
   ]
  },
  {
   "cell_type": "code",
   "execution_count": 3,
   "id": "b5aaa83e-9fbe-4fde-a285-b95e5134f010",
   "metadata": {},
   "outputs": [
    {
     "name": "stdout",
     "output_type": "stream",
     "text": [
      "[1, 6, 10, 20, 4.5, 3.1, 5.0]\n"
     ]
    }
   ],
   "source": [
    "lista_1 = [1, 6, 10, 20]\n",
    "lista_2 = [4.5, 3.1, 5.0]\n",
    "lista_juncao = lista_1 + lista_2\n",
    "print(lista_juncao)"
   ]
  },
  {
   "cell_type": "code",
   "execution_count": 7,
   "id": "48ace968-7c67-44dd-a1eb-bd81e59c69ba",
   "metadata": {},
   "outputs": [
    {
     "name": "stdout",
     "output_type": "stream",
     "text": [
      "4\n"
     ]
    }
   ],
   "source": [
    "#Tamanho da lista - função Len()\n",
    "\n",
    "lista_1 = [1, 6, 10, 20]\n",
    "print(len(lista_1))"
   ]
  },
  {
   "cell_type": "code",
   "execution_count": 11,
   "id": "2a3c0c3c-d21e-4d58-a1b4-179169b0c924",
   "metadata": {},
   "outputs": [
    {
     "name": "stdout",
     "output_type": "stream",
     "text": [
      "20\n"
     ]
    }
   ],
   "source": [
    "#Maior elemento da lista - função max\n",
    "print(max(lista_1))"
   ]
  },
  {
   "cell_type": "code",
   "execution_count": 12,
   "id": "2a36d8f2-7f3e-4301-b8b6-baed0893a978",
   "metadata": {},
   "outputs": [
    {
     "name": "stdout",
     "output_type": "stream",
     "text": [
      "1\n"
     ]
    }
   ],
   "source": [
    "#Menor elemento da lista - função min\n",
    "print(min(lista_1))"
   ]
  },
  {
   "cell_type": "code",
   "execution_count": 13,
   "id": "5b5a87df-64c2-4976-837a-eb2e9b682906",
   "metadata": {},
   "outputs": [
    {
     "name": "stdout",
     "output_type": "stream",
     "text": [
      "37\n"
     ]
    }
   ],
   "source": [
    "#Somar todos os elemento da lista - função sum()\n",
    "print(sum(lista_1))"
   ]
  },
  {
   "cell_type": "code",
   "execution_count": 14,
   "id": "d86da00e-9004-4002-a86c-db2a7cdecdac",
   "metadata": {},
   "outputs": [
    {
     "name": "stdout",
     "output_type": "stream",
     "text": [
      "[1, 6, 50, 10, 20]\n"
     ]
    }
   ],
   "source": [
    "#Inserindo um nov elemento em uma possição especifica - função insert()\n",
    "lista_1 = [1, 6, 10, 20]\n",
    "lista_1.insert(2, 50)\n",
    "print(lista_1)"
   ]
  },
  {
   "cell_type": "code",
   "execution_count": 20,
   "id": "20f4a7eb-42b8-4168-aec6-2578ba260f02",
   "metadata": {},
   "outputs": [
    {
     "name": "stdout",
     "output_type": "stream",
     "text": [
      "2\n"
     ]
    }
   ],
   "source": [
    "#Retornando a posição de um elemento - index()\n",
    "\n",
    "lista_1 = [1, 6, 10, 20]\n",
    "print(lista_1.index(10))"
   ]
  },
  {
   "cell_type": "code",
   "execution_count": 18,
   "id": "189367ef-8af9-48a5-a395-6413879ca579",
   "metadata": {},
   "outputs": [
    {
     "name": "stdout",
     "output_type": "stream",
     "text": [
      "[20, 10, 6, 1]\n"
     ]
    }
   ],
   "source": [
    "#Invertendo a ordem dos elementos da lista - reverse()\n",
    "\n",
    "lista_1 = [1, 6, 10, 20]\n",
    "lista_1.reverse()\n",
    "print(lista_1)"
   ]
  },
  {
   "cell_type": "code",
   "execution_count": 19,
   "id": "fa244aad-21fb-4da6-a03b-ac0f93c4d0c1",
   "metadata": {},
   "outputs": [
    {
     "name": "stdout",
     "output_type": "stream",
     "text": [
      "[2, 6, 11, 20]\n"
     ]
    }
   ],
   "source": [
    "#Ordenar a ordem da lista - função sort()\n",
    "\n",
    "lista_1 = [11, 6, 2, 20]\n",
    "lista_1.sort()\n",
    "print(lista_1)"
   ]
  },
  {
   "cell_type": "markdown",
   "id": "b57886e8-9ac1-43d2-837c-1393de0ec4cf",
   "metadata": {},
   "source": [
    "## Tuplas\n",
    "\n",
    "- Estrutura semelhante a listas, mas não pode ser alterada (imutável)\n",
    "- Utiliza parênteses para definir e colchetes"
   ]
  },
  {
   "cell_type": "code",
   "execution_count": 22,
   "id": "01de0f95-631d-4e1d-9aec-5c3e0955a30c",
   "metadata": {},
   "outputs": [
    {
     "name": "stdout",
     "output_type": "stream",
     "text": [
      "Domingo\n"
     ]
    }
   ],
   "source": [
    "tupla_1 = ('Domingo', 'Segunda', 'Terça', 'Quarta')\n",
    "print(tupla_1[0])"
   ]
  },
  {
   "cell_type": "code",
   "execution_count": 24,
   "id": "55d095c3-697f-487c-834c-f71fa78add3c",
   "metadata": {},
   "outputs": [
    {
     "ename": "TypeError",
     "evalue": "'tuple' object does not support item assignment",
     "output_type": "error",
     "traceback": [
      "\u001b[1;31m------------------------------------------------------------\u001b[0m",
      "\u001b[1;31mTypeError\u001b[0m                  Traceback (most recent call last)",
      "Cell \u001b[1;32mIn[24], line 3\u001b[0m\n\u001b[0;32m      1\u001b[0m \u001b[38;5;66;03m#Não é possível alterar qualquer valor da tupla, dispara um erro\u001b[39;00m\n\u001b[1;32m----> 3\u001b[0m \u001b[43mtupla_1\u001b[49m\u001b[43m[\u001b[49m\u001b[38;5;241;43m1\u001b[39;49m\u001b[43m]\u001b[49m \u001b[38;5;241m=\u001b[39m \u001b[38;5;124m'\u001b[39m\u001b[38;5;124mQuarta\u001b[39m\u001b[38;5;124m'\u001b[39m\n",
      "\u001b[1;31mTypeError\u001b[0m: 'tuple' object does not support item assignment"
     ]
    }
   ],
   "source": [
    "#Não é possível alterar qualquer valor da tupla, dispara um erro\n",
    "\n",
    "tupla_1[1] = 'Quarta'"
   ]
  },
  {
   "cell_type": "code",
   "execution_count": 26,
   "id": "b6b740f3-c6c9-4072-b64b-e29cb20dd4f8",
   "metadata": {},
   "outputs": [
    {
     "name": "stdout",
     "output_type": "stream",
     "text": [
      "['Domingo', 'Segunda', 'Terça', 'Quarta']\n"
     ]
    }
   ],
   "source": [
    "#Convertendo uma tupla em lista - função list()\n",
    "\n",
    "tupla_1 = ('Domingo', 'Segunda', 'Terça', 'Quarta')\n",
    "lista_resultado = list(tupla_1)\n",
    "print(lista_resultado)"
   ]
  },
  {
   "cell_type": "markdown",
   "id": "4a8bb0db-80c2-4a86-a01e-93ba3b233226",
   "metadata": {},
   "source": [
    "## Dicionario de Dados\n",
    "\n",
    "- Estrutura de Dados composta por chaves e valores\n",
    "- utiliza chaves {} para a criação"
   ]
  },
  {
   "cell_type": "code",
   "execution_count": null,
   "id": "f4dd71b3-0a3e-42ed-9919-33dfd4fd8400",
   "metadata": {},
   "outputs": [],
   "source": []
  }
 ],
 "metadata": {
  "kernelspec": {
   "display_name": "Python 3 (ipykernel)",
   "language": "python",
   "name": "python3"
  },
  "language_info": {
   "codemirror_mode": {
    "name": "ipython",
    "version": 3
   },
   "file_extension": ".py",
   "mimetype": "text/x-python",
   "name": "python",
   "nbconvert_exporter": "python",
   "pygments_lexer": "ipython3",
   "version": "3.10.4"
  }
 },
 "nbformat": 4,
 "nbformat_minor": 5
}
