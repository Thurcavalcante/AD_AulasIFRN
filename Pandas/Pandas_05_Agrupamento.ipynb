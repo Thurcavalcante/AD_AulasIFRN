{
 "cells": [
  {
   "cell_type": "markdown",
   "id": "fb070dcc-f7db-411b-ad69-aa4b829ece58",
   "metadata": {},
   "source": [
    "# Função de Agrupamento"
   ]
  },
  {
   "cell_type": "code",
   "execution_count": 17,
   "id": "dbe0a061-3d8f-47f3-83ac-bdf9b8ac9353",
   "metadata": {},
   "outputs": [],
   "source": [
    "import pandas as pd"
   ]
  },
  {
   "cell_type": "code",
   "execution_count": 19,
   "id": "7a15009d-1443-4b6f-bc3a-49a199ab133f",
   "metadata": {},
   "outputs": [
    {
     "data": {
      "text/html": [
       "<div>\n",
       "<style scoped>\n",
       "    .dataframe tbody tr th:only-of-type {\n",
       "        vertical-align: middle;\n",
       "    }\n",
       "\n",
       "    .dataframe tbody tr th {\n",
       "        vertical-align: top;\n",
       "    }\n",
       "\n",
       "    .dataframe thead th {\n",
       "        text-align: right;\n",
       "    }\n",
       "</style>\n",
       "<table border=\"1\" class=\"dataframe\">\n",
       "  <thead>\n",
       "    <tr style=\"text-align: right;\">\n",
       "      <th></th>\n",
       "      <th>Loja</th>\n",
       "      <th>Cliente</th>\n",
       "      <th>valor</th>\n",
       "    </tr>\n",
       "  </thead>\n",
       "  <tbody>\n",
       "    <tr>\n",
       "      <th>0</th>\n",
       "      <td>L1</td>\n",
       "      <td>Raniere</td>\n",
       "      <td>500.0</td>\n",
       "    </tr>\n",
       "    <tr>\n",
       "      <th>1</th>\n",
       "      <td>L2</td>\n",
       "      <td>Ed</td>\n",
       "      <td>150.0</td>\n",
       "    </tr>\n",
       "    <tr>\n",
       "      <th>2</th>\n",
       "      <td>L1</td>\n",
       "      <td>Pedro</td>\n",
       "      <td>140.0</td>\n",
       "    </tr>\n",
       "    <tr>\n",
       "      <th>3</th>\n",
       "      <td>L3</td>\n",
       "      <td>Raniere</td>\n",
       "      <td>233.0</td>\n",
       "    </tr>\n",
       "    <tr>\n",
       "      <th>4</th>\n",
       "      <td>L2</td>\n",
       "      <td>Raniere</td>\n",
       "      <td>30.0</td>\n",
       "    </tr>\n",
       "    <tr>\n",
       "      <th>5</th>\n",
       "      <td>L1</td>\n",
       "      <td>Matheus</td>\n",
       "      <td>150.0</td>\n",
       "    </tr>\n",
       "  </tbody>\n",
       "</table>\n",
       "</div>"
      ],
      "text/plain": [
       "  Loja  Cliente  valor\n",
       "0   L1  Raniere  500.0\n",
       "1   L2       Ed  150.0\n",
       "2   L1    Pedro  140.0\n",
       "3   L3  Raniere  233.0\n",
       "4   L2  Raniere   30.0\n",
       "5   L1  Matheus  150.0"
      ]
     },
     "execution_count": 19,
     "metadata": {},
     "output_type": "execute_result"
    }
   ],
   "source": [
    "vendas = {\n",
    "    'Loja': ['L1','L2','L1','L3','L2','L1'],\n",
    "    'Cliente': ['Raniere','Ed','Pedro','Raniere','Raniere','Matheus'],\n",
    "    'valor': [500.00,150.00,140.00,233.00,30.00,150.00]\n",
    "}\n",
    "dataframe_vendas = pd.DataFrame(vendas)\n",
    "dataframe_vendas"
   ]
  },
  {
   "cell_type": "markdown",
   "id": "d8375bab-bdb6-4f6e-a6a4-b7938b5ea180",
   "metadata": {},
   "source": [
    "## Função groupby"
   ]
  },
  {
   "cell_type": "code",
   "execution_count": 24,
   "id": "09454f88-0885-44da-9f01-b7dfe252ade5",
   "metadata": {},
   "outputs": [
    {
     "data": {
      "text/plain": [
       "Loja\n",
       "L1    3\n",
       "L2    2\n",
       "L3    1\n",
       "Name: Loja, dtype: int64"
      ]
     },
     "execution_count": 24,
     "metadata": {},
     "output_type": "execute_result"
    }
   ],
   "source": [
    "# Quantas vendas por Loja foram feitas?\n",
    "\n",
    "dataframe_vendas.groupby('Loja')['Loja'].count()"
   ]
  },
  {
   "cell_type": "code",
   "execution_count": 39,
   "id": "c11d7396-3f8b-4857-8ce2-67a84a275f5d",
   "metadata": {},
   "outputs": [
    {
     "data": {
      "text/plain": [
       "Loja\n",
       "L1    3\n",
       "Name: Loja, dtype: int64"
      ]
     },
     "execution_count": 39,
     "metadata": {},
     "output_type": "execute_result"
    }
   ],
   "source": [
    "# Quantas vendas foram realizadas pela loja L1?\n",
    "\n",
    "dataframe_vendas[dataframe_vendas.Loja == 'L1'].groupby('Loja')['Loja'].count()"
   ]
  },
  {
   "cell_type": "code",
   "execution_count": 38,
   "id": "57e29bab-f766-478b-8550-c980ef48c650",
   "metadata": {},
   "outputs": [
    {
     "data": {
      "text/plain": [
       "Cliente\n",
       "Ed         1\n",
       "Matheus    1\n",
       "Pedro      1\n",
       "Raniere    3\n",
       "Name: Cliente, dtype: int64"
      ]
     },
     "execution_count": 38,
     "metadata": {},
     "output_type": "execute_result"
    }
   ],
   "source": [
    "# Quantas compras foram realizadas por cada cliente?\n",
    "\n",
    "dataframe_vendas.groupby('Cliente')['Cliente'].count()"
   ]
  },
  {
   "cell_type": "code",
   "execution_count": 43,
   "id": "e7be61bd-7c70-478c-a280-11ae4eb31d3f",
   "metadata": {},
   "outputs": [
    {
     "data": {
      "text/plain": [
       "Loja  Cliente\n",
       "L1    Matheus    1\n",
       "      Pedro      1\n",
       "      Raniere    1\n",
       "L2    Ed         1\n",
       "      Raniere    1\n",
       "L3    Raniere    1\n",
       "Name: Cliente, dtype: int64"
      ]
     },
     "execution_count": 43,
     "metadata": {},
     "output_type": "execute_result"
    }
   ],
   "source": [
    "# Por loja, quais clientes e quantas compras cada um realizou?\n",
    "\n",
    "dataframe_vendas.groupby(['Loja', 'Cliente'])['Cliente'].count()"
   ]
  },
  {
   "cell_type": "code",
   "execution_count": 46,
   "id": "d36fc212-d2a7-419a-adad-798cb3d15fe4",
   "metadata": {},
   "outputs": [
    {
     "data": {
      "text/plain": [
       "Loja\n",
       "L1    790.0\n",
       "L2    180.0\n",
       "L3    233.0\n",
       "Name: valor, dtype: float64"
      ]
     },
     "execution_count": 46,
     "metadata": {},
     "output_type": "execute_result"
    }
   ],
   "source": [
    "# Qual o valor de todas as vendas por lojas?\n",
    "\n",
    "dataframe_vendas.groupby('Loja')['valor'].sum()"
   ]
  },
  {
   "cell_type": "code",
   "execution_count": 48,
   "id": "049ca09b-5233-4cd0-a0b8-14699285c1eb",
   "metadata": {},
   "outputs": [
    {
     "data": {
      "text/plain": [
       "Loja\n",
       "L1    790.0\n",
       "L3    233.0\n",
       "L2    180.0\n",
       "Name: valor, dtype: float64"
      ]
     },
     "execution_count": 48,
     "metadata": {},
     "output_type": "execute_result"
    }
   ],
   "source": [
    "'''\n",
    "Usando o exemplo anterior, ordenar da loja\n",
    "que mais vendeu para a que menos vendeu.\n",
    "'''\n",
    "\n",
    "dataframe_vendas.groupby('Loja')['valor'].sum().sort_values(ascending=False)"
   ]
  },
  {
   "cell_type": "code",
   "execution_count": 56,
   "id": "81d16153-f315-49f1-9224-6c6591c82e96",
   "metadata": {},
   "outputs": [
    {
     "data": {
      "text/plain": [
       "Loja\n",
       "L1    790.0\n",
       "L3    233.0\n",
       "Name: valor, dtype: float64"
      ]
     },
     "execution_count": 56,
     "metadata": {},
     "output_type": "execute_result"
    }
   ],
   "source": [
    "'''\n",
    "Usando o exemplo, exibir apenas as 2 lojas que mais venderam.\n",
    "'''\n",
    "\n",
    "dataframe_vendas.groupby('Loja')['valor'].sum().sort_values(ascending=False).head(2)"
   ]
  },
  {
   "cell_type": "code",
   "execution_count": 59,
   "id": "867469f1-edc2-4e9c-b4ac-d1012d99f340",
   "metadata": {},
   "outputs": [
    {
     "data": {
      "text/plain": [
       "Cliente\n",
       "Ed         150.0\n",
       "Matheus    150.0\n",
       "Pedro      140.0\n",
       "Raniere    763.0\n",
       "Name: valor, dtype: float64"
      ]
     },
     "execution_count": 59,
     "metadata": {},
     "output_type": "execute_result"
    }
   ],
   "source": [
    "# Qual o valor total gasto nas compras por clientes?\n",
    "\n",
    "dataframe_vendas.groupby('Cliente')['valor'].sum()"
   ]
  },
  {
   "cell_type": "code",
   "execution_count": 61,
   "id": "2d221120-a74e-4af2-af3c-546324f3d728",
   "metadata": {},
   "outputs": [
    {
     "data": {
      "text/plain": [
       "Cliente\n",
       "Pedro      140.0\n",
       "Ed         150.0\n",
       "Matheus    150.0\n",
       "Raniere    763.0\n",
       "Name: valor, dtype: float64"
      ]
     },
     "execution_count": 61,
     "metadata": {},
     "output_type": "execute_result"
    }
   ],
   "source": [
    "# ordenando do que menos comprou para o que mais comprou.\n",
    "\n",
    "dataframe_vendas.groupby('Cliente')['valor'].sum().sort_values(ascending=True)"
   ]
  },
  {
   "cell_type": "code",
   "execution_count": 72,
   "id": "597c67f5-9ce5-4463-9f85-fb578771a3c5",
   "metadata": {},
   "outputs": [
    {
     "data": {
      "text/plain": [
       "Cliente\n",
       "Ed         150.000000\n",
       "Matheus    150.000000\n",
       "Pedro      140.000000\n",
       "Raniere    254.333333\n",
       "Name: valor, dtype: float64"
      ]
     },
     "execution_count": 72,
     "metadata": {},
     "output_type": "execute_result"
    }
   ],
   "source": [
    "# Exibir a média do valor gasto por cada cliente\n",
    "\n",
    "dataframe_vendas.groupby('Cliente')['valor'].mean()"
   ]
  },
  {
   "cell_type": "code",
   "execution_count": null,
   "id": "03d07e4d-41af-440b-aa1a-937e62422abf",
   "metadata": {},
   "outputs": [],
   "source": []
  }
 ],
 "metadata": {
  "kernelspec": {
   "display_name": "Python 3 (ipykernel)",
   "language": "python",
   "name": "python3"
  },
  "language_info": {
   "codemirror_mode": {
    "name": "ipython",
    "version": 3
   },
   "file_extension": ".py",
   "mimetype": "text/x-python",
   "name": "python",
   "nbconvert_exporter": "python",
   "pygments_lexer": "ipython3",
   "version": "3.10.7"
  }
 },
 "nbformat": 4,
 "nbformat_minor": 5
}
