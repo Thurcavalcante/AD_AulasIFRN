{
 "cells": [
  {
   "cell_type": "markdown",
   "id": "dc01c4dc-c231-4207-9a56-44173830bcf0",
   "metadata": {},
   "source": [
    "# 2darray - Array de 2 dimenções"
   ]
  },
  {
   "cell_type": "markdown",
   "id": "b642e9a0-9f05-4f35-8b63-b87bd65321aa",
   "metadata": {},
   "source": [
    "## Aula"
   ]
  },
  {
   "cell_type": "code",
   "execution_count": 2,
   "id": "7c0ae7f0-949d-475a-b92e-7a49f02dc33a",
   "metadata": {},
   "outputs": [],
   "source": [
    "import numpy as np"
   ]
  },
  {
   "cell_type": "markdown",
   "id": "b5877d37-c530-444c-ad16-e6d18248f808",
   "metadata": {},
   "source": [
    "## Criação de um 2darray"
   ]
  },
  {
   "cell_type": "code",
   "execution_count": 3,
   "id": "59215b4f-40c3-4a4d-85c4-b7563cca3380",
   "metadata": {},
   "outputs": [],
   "source": [
    "# Utiliza também a função array()\n",
    "\n",
    "array_1 = np.array([[1,2,3], [4,5,6]])"
   ]
  },
  {
   "cell_type": "code",
   "execution_count": 4,
   "id": "2fde8548-3c60-4a06-92c0-c2e35918b2c7",
   "metadata": {},
   "outputs": [
    {
     "name": "stdout",
     "output_type": "stream",
     "text": [
      "[[1 2 3]\n",
      " [4 5 6]]\n"
     ]
    }
   ],
   "source": [
    "print(array_1)"
   ]
  },
  {
   "cell_type": "code",
   "execution_count": 8,
   "id": "8506d6b8-2529-4140-aa9b-3eea7fb49159",
   "metadata": {},
   "outputs": [
    {
     "name": "stdout",
     "output_type": "stream",
     "text": [
      "<class 'numpy.ndarray'>\n"
     ]
    }
   ],
   "source": [
    "print(type(array_1))"
   ]
  },
  {
   "cell_type": "markdown",
   "id": "37a1ad31-248b-46ef-a8db-7c9cdc6f3d7c",
   "metadata": {},
   "source": [
    "## Acessando elementos do Array de 2 dimensões"
   ]
  },
  {
   "cell_type": "code",
   "execution_count": 19,
   "id": "700a5b26-f04d-44f8-a4d7-de110453faad",
   "metadata": {},
   "outputs": [
    {
     "name": "stdout",
     "output_type": "stream",
     "text": [
      "5\n"
     ]
    }
   ],
   "source": [
    "# sempre na seguencia: linha x coluna. Se usa colchetes[]\n",
    "\n",
    "# linha 1; coluna 1\n",
    "\n",
    "print(array_1[1][1])"
   ]
  },
  {
   "cell_type": "code",
   "execution_count": 13,
   "id": "010250c1-9116-4c4a-94c6-54e2b5db7dcb",
   "metadata": {},
   "outputs": [
    {
     "name": "stdout",
     "output_type": "stream",
     "text": [
      "3\n"
     ]
    }
   ],
   "source": [
    "# linha0; coluna2\n",
    "\n",
    "print(array_1[0][2])"
   ]
  },
  {
   "cell_type": "code",
   "execution_count": 17,
   "id": "51890a10-409e-4813-9c0a-014f2701b11e",
   "metadata": {},
   "outputs": [
    {
     "name": "stdout",
     "output_type": "stream",
     "text": [
      "2\n"
     ]
    }
   ],
   "source": [
    "# linha0; coluna1\n",
    "\n",
    "print(array_1[0,1])"
   ]
  },
  {
   "cell_type": "code",
   "execution_count": 18,
   "id": "182f7450-2d2d-413c-8ca0-c20927ca9d79",
   "metadata": {},
   "outputs": [
    {
     "name": "stdout",
     "output_type": "stream",
     "text": [
      "[[ 1 30  3]\n",
      " [ 4  5  6]]\n"
     ]
    }
   ],
   "source": [
    "# Para substituirum valor se utiliza colchetes também\n",
    "\n",
    "array_1[0][1] = 30\n",
    "print(array_1)"
   ]
  },
  {
   "cell_type": "code",
   "execution_count": 20,
   "id": "f1c10ecf-e0d3-4665-a9f3-f2fd54a15474",
   "metadata": {},
   "outputs": [
    {
     "name": "stdout",
     "output_type": "stream",
     "text": [
      "[[ 1 30  3]\n",
      " [15  5  6]]\n"
     ]
    }
   ],
   "source": [
    "# \n",
    "\n",
    "array_1[1,0] = 15\n",
    "print(array_1)"
   ]
  },
  {
   "cell_type": "markdown",
   "id": "5d84a709-c657-49c6-a8b8-50feb0c2d42a",
   "metadata": {},
   "source": [
    "## Propriedades para 2darray"
   ]
  },
  {
   "cell_type": "code",
   "execution_count": 21,
   "id": "da4f4c80-8a63-4758-b841-e1da51b8b42e",
   "metadata": {},
   "outputs": [
    {
     "name": "stdout",
     "output_type": "stream",
     "text": [
      "(2, 3)\n"
     ]
    }
   ],
   "source": [
    "# shape - retorna a quantidade de elementos por dimensão\n",
    "\n",
    "print(array_1.shape)"
   ]
  },
  {
   "cell_type": "code",
   "execution_count": 22,
   "id": "75642357-4eb2-4669-9bca-8e07f525220d",
   "metadata": {},
   "outputs": [
    {
     "name": "stdout",
     "output_type": "stream",
     "text": [
      "(5,)\n"
     ]
    }
   ],
   "source": [
    "array_teste = np.array([2,5,6,2,1])\n",
    "print(array_teste.shape)"
   ]
  },
  {
   "cell_type": "code",
   "execution_count": 23,
   "id": "934a142b-2a30-4fe3-90a0-b8eca941c715",
   "metadata": {},
   "outputs": [
    {
     "name": "stdout",
     "output_type": "stream",
     "text": [
      "6\n"
     ]
    }
   ],
   "source": [
    "# size - quantidade total de elementos no array\n",
    "\n",
    "print(array_1.size)"
   ]
  },
  {
   "cell_type": "code",
   "execution_count": 24,
   "id": "e53ddff5-d2b6-4ebe-91ee-fea048a017e6",
   "metadata": {},
   "outputs": [
    {
     "name": "stdout",
     "output_type": "stream",
     "text": [
      "2\n"
     ]
    }
   ],
   "source": [
    "# ndim - retorna oa dimensão do array\n",
    "\n",
    "print(array_1.ndim)"
   ]
  },
  {
   "cell_type": "markdown",
   "id": "0b7598dd-4bb3-45f8-869d-6d1db1c8b6a2",
   "metadata": {},
   "source": [
    "## Funções para 2darray"
   ]
  },
  {
   "cell_type": "code",
   "execution_count": 26,
   "id": "1a9e5e8f-a974-471d-9c3f-8a019fa532d2",
   "metadata": {},
   "outputs": [
    {
     "name": "stdout",
     "output_type": "stream",
     "text": [
      "[ 1 31 34 49 54 60]\n"
     ]
    }
   ],
   "source": [
    "# cumsum() - soma acumulada\n",
    "\n",
    "print(array_1.cumsum())"
   ]
  },
  {
   "cell_type": "code",
   "execution_count": 33,
   "id": "69143442-e9ad-4d3d-a2ec-bf9dd0ab6576",
   "metadata": {},
   "outputs": [
    {
     "name": "stdout",
     "output_type": "stream",
     "text": [
      "[[1 2 3]\n",
      " [4 5 6]]\n",
      "\n",
      "[[1 2 3]\n",
      " [4 5 6]]\n"
     ]
    }
   ],
   "source": [
    "# reshape - modifica a dimesão do array\n",
    "\n",
    "# Ex1:\n",
    "array_d1 = np.array([1,2,3,4,5,6])\n",
    "print(array_d1.reshape(2,3))\n",
    "\n",
    "print()\n",
    "\n",
    "# Ex2:\n",
    "array_2 = array_d1.reshape(2,3)\n",
    "print(array_2)"
   ]
  },
  {
   "cell_type": "code",
   "execution_count": 32,
   "id": "ed110164-a6fa-4f9c-b1ff-90426b7d5696",
   "metadata": {},
   "outputs": [
    {
     "name": "stdout",
     "output_type": "stream",
     "text": [
      "[[ 1 31 34]\n",
      " [49 54 60]]\n"
     ]
    }
   ],
   "source": [
    "print(array_1.cumsum().reshape(2,3))"
   ]
  },
  {
   "cell_type": "code",
   "execution_count": 34,
   "id": "97135690-5ac1-4f4c-96c1-6650822d705a",
   "metadata": {},
   "outputs": [
    {
     "name": "stdout",
     "output_type": "stream",
     "text": [
      "[[ 1 31 34]\n",
      " [49 54 60]]\n"
     ]
    }
   ],
   "source": [
    "'''\n",
    "A função cumsum() gera um array de 1 dimensão. No exemplo a seguir, foi acumulado\n",
    "com a função reshape(), que é executado em seguida ferando novamente o array\n",
    "de duas dimensões.\n",
    "'''\n",
    "\n",
    "print(array_1.cumsum().reshape(2,3))"
   ]
  },
  {
   "cell_type": "code",
   "execution_count": 39,
   "id": "ce894f51-6d31-4bb9-81e5-53d419464e87",
   "metadata": {},
   "outputs": [
    {
     "name": "stdout",
     "output_type": "stream",
     "text": [
      "[[ 1  2]\n",
      " [ 3  4]\n",
      " [ 5  6]\n",
      " [ 7  8]\n",
      " [ 9 10]]\n"
     ]
    }
   ],
   "source": [
    "'''\n",
    "Ao adicionar a propriedade reshape(), \n",
    "transforma em um array de 2 dimensões, \n",
    "em 5 (cinco) linhas e 2 (duas) colunas\n",
    "'''\n",
    "\n",
    "array_3 = np.array(range(1,11))\n",
    "print(array_3)"
   ]
  },
  {
   "cell_type": "markdown",
   "id": "d16c87fc-d536-48b0-87ec-3ec67501fa0a",
   "metadata": {},
   "source": [
    "Você pode representá-la como um array de 2ª dimensão da seguinte maneira:"
   ]
  },
  {
   "cell_type": "code",
   "execution_count": 27,
   "id": "7a4be628-b70b-47e9-9157-39368428721f",
   "metadata": {},
   "outputs": [],
   "source": [
    "matriz = [[1, 2, 3], [4, 5, 6], [7, 8, 9]]"
   ]
  },
  {
   "cell_type": "markdown",
   "id": "da6286cf-e8d1-4e05-a0dc-7f78c612cd98",
   "metadata": {},
   "source": [
    "Aqui, matriz[0] seria a primeira linha [1, 2, 3], matriz[1] seria a segunda linha [4, 5, 6], e assim por diante1.\r\n",
    "\r\n",
    "No Jupyter Notebook, você pode usar a biblioteca NumPy para trabalhar com arrays de múltiplas dimensões. Por exemplo:"
   ]
  },
  {
   "cell_type": "code",
   "execution_count": 28,
   "id": "32264dda-51bc-4c00-8de8-1eee892e7cb5",
   "metadata": {},
   "outputs": [
    {
     "name": "stdout",
     "output_type": "stream",
     "text": [
      "[[1 2 3]\n",
      " [4 5 6]\n",
      " [7 8 9]]\n"
     ]
    }
   ],
   "source": [
    "import numpy as np\n",
    "\n",
    "# Criando um array de 2ª dimensão\n",
    "matriz = np.array([[1, 2, 3], [4, 5, 6], [7, 8, 9]])\n",
    "\n",
    "print(matriz)"
   ]
  }
 ],
 "metadata": {
  "kernelspec": {
   "display_name": "Python 3 (ipykernel)",
   "language": "python",
   "name": "python3"
  },
  "language_info": {
   "codemirror_mode": {
    "name": "ipython",
    "version": 3
   },
   "file_extension": ".py",
   "mimetype": "text/x-python",
   "name": "python",
   "nbconvert_exporter": "python",
   "pygments_lexer": "ipython3",
   "version": "3.10.4"
  }
 },
 "nbformat": 4,
 "nbformat_minor": 5
}
